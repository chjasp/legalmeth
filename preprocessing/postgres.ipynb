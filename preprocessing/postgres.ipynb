{
 "cells": [
  {
   "cell_type": "code",
   "execution_count": 13,
   "id": "181d04a9-7871-4456-b8e9-971f8fad9b1b",
   "metadata": {},
   "outputs": [],
   "source": [
    "# DB connection\n",
    "from google.cloud.sql.connector import Connector\n",
    "# from pgvector.asyncpg import register_vector\n",
    "import sqlalchemy\n",
    "# import asyncio\n",
    "# import asyncpg\n",
    "\n",
    "# Data processing\n",
    "from langchain.text_splitter import RecursiveCharacterTextSplitter\n",
    "import pandas as pd\n",
    "import os\n",
    "\n",
    "# Embeddings\n",
    "from langchain.embeddings import VertexAIEmbeddings\n",
    "from vertexai.language_models import TextEmbeddingModel\n",
    "import time\n",
    "\n",
    "# Utils\n",
    "from tqdm import tqdm\n",
    "import numpy as np"
   ]
  },
  {
   "cell_type": "code",
   "execution_count": 5,
   "id": "ab786017-71b7-432e-8e0e-0a3a3f471631",
   "metadata": {},
   "outputs": [
    {
     "name": "stdout",
     "output_type": "stream",
     "text": [
      "Your instance connection name is: steam-378309:europe-west3:legalm\n"
     ]
    }
   ],
   "source": [
    "project_id = os.environ.get(\"PROJECT_ID\")\n",
    "region = \"europe-west3\"\n",
    "instance_name = \"legalm\"\n",
    "\n",
    "DB_NAME = \"pubmed\"\n",
    "DB_USER = \"postgres\"\n",
    "DB_PASS = os.environ.get(\"DB_PASS\")\n",
    "DB_PORT = \"5432\"\n",
    "\n",
    "INSTANCE_CONNECTION_NAME = f\"{project_id}:{region}:{instance_name}\"\n",
    "print(f\"Your instance connection name is: {INSTANCE_CONNECTION_NAME}\")"
   ]
  },
  {
   "cell_type": "code",
   "execution_count": 6,
   "id": "095e657b-3105-4374-b311-f17034ce060a",
   "metadata": {},
   "outputs": [],
   "source": [
    "from google.cloud.sql.connector import Connector\n",
    "\n",
    "connector = Connector()\n",
    "\n",
    "def getconn():\n",
    "    conn = connector.connect(\n",
    "        INSTANCE_CONNECTION_NAME,\n",
    "        \"pg8000\",\n",
    "        user=DB_USER,\n",
    "        password=DB_PASS,\n",
    "        db=DB_NAME\n",
    "    )\n",
    "    return conn\n",
    "\n",
    "pool = sqlalchemy.create_engine(\n",
    "    \"postgresql+pg8000://\",\n",
    "    creator=getconn,\n",
    ")"
   ]
  },
  {
   "cell_type": "code",
   "execution_count": 7,
   "id": "f5a0de33-8113-43d4-a424-604229192adf",
   "metadata": {},
   "outputs": [],
   "source": [
    "pool = sqlalchemy.create_engine(\n",
    "    \"postgresql+pg8000://\",\n",
    "    creator=getconn,\n",
    ")"
   ]
  },
  {
   "cell_type": "code",
   "execution_count": 36,
   "id": "b7df7e3c-6381-44fb-a9ef-559e3efdf4aa",
   "metadata": {},
   "outputs": [],
   "source": [
    "DB_SIZE_QUERY = \"\"\"SELECT pg_database.datname AS database_name\n",
    "                   ,ROUND((pg_database_size(pg_database.datname) / 1048576)::numeric, 2) AS data_size_MB\n",
    "                   FROM pg_database;\"\"\"\n",
    "\n",
    "QUERY = \"\"\"SELECT COUNT(*) FROM products;\"\"\""
   ]
  },
  {
   "cell_type": "code",
   "execution_count": 37,
   "id": "14cdfddd-8edf-4e59-a327-2060c3034ed9",
   "metadata": {},
   "outputs": [
    {
     "name": "stdout",
     "output_type": "stream",
     "text": [
      "(848,)\n"
     ]
    }
   ],
   "source": [
    "with pool.connect() as db_conn:\n",
    "    query = sqlalchemy.text(QUERY)\n",
    "    results = db_conn.execute(query).fetchall()\n",
    "    \n",
    "    for row in results:\n",
    "        print(row)"
   ]
  },
  {
   "cell_type": "code",
   "execution_count": 8,
   "id": "9d8784b9-5b08-4f41-beef-2fd1b9457f56",
   "metadata": {},
   "outputs": [
    {
     "data": {
      "text/html": [
       "<div>\n",
       "<style scoped>\n",
       "    .dataframe tbody tr th:only-of-type {\n",
       "        vertical-align: middle;\n",
       "    }\n",
       "\n",
       "    .dataframe tbody tr th {\n",
       "        vertical-align: top;\n",
       "    }\n",
       "\n",
       "    .dataframe thead th {\n",
       "        text-align: right;\n",
       "    }\n",
       "</style>\n",
       "<table border=\"1\" class=\"dataframe\">\n",
       "  <thead>\n",
       "    <tr style=\"text-align: right;\">\n",
       "      <th></th>\n",
       "      <th>product_id</th>\n",
       "      <th>product_name</th>\n",
       "      <th>description</th>\n",
       "      <th>list_price</th>\n",
       "    </tr>\n",
       "  </thead>\n",
       "  <tbody>\n",
       "    <tr>\n",
       "      <th>0</th>\n",
       "      <td>7e8697b5b7cdb5a40daf54caf1435cd5</td>\n",
       "      <td>Koplow Games Set of 2 D12 12-Sided Rock, Paper...</td>\n",
       "      <td>Rock, paper, scissors is a great way to resolv...</td>\n",
       "      <td>3.56</td>\n",
       "    </tr>\n",
       "    <tr>\n",
       "      <th>1</th>\n",
       "      <td>7de8b315b3cb91f3680eb5b88a20dcee</td>\n",
       "      <td>12\"-20\" Schwinn Training Wheels</td>\n",
       "      <td>Turn any small bicycle into an instrument for ...</td>\n",
       "      <td>28.17</td>\n",
       "    </tr>\n",
       "    <tr>\n",
       "      <th>2</th>\n",
       "      <td>fb9535c103d7d717f0414b2b111cfaaa</td>\n",
       "      <td>Bicycle Pinochle Jumbo Index Playing Cards - 1...</td>\n",
       "      <td>Purchase includes 1 blue deck and 1 red deck. ...</td>\n",
       "      <td>6.49</td>\n",
       "    </tr>\n",
       "    <tr>\n",
       "      <th>3</th>\n",
       "      <td>c73ea622b3be6a3ffa3b0b5490e4929e</td>\n",
       "      <td>Step2 Woodland Adventure Playhouse &amp; Slide</td>\n",
       "      <td>The Step2 Woodland Climber Adventure Playhouse...</td>\n",
       "      <td>499.99</td>\n",
       "    </tr>\n",
       "    <tr>\n",
       "      <th>4</th>\n",
       "      <td>dec7bd1f983887650715c6fafaa5b593</td>\n",
       "      <td>Step2 Naturally Playful Welcome Home Playhouse...</td>\n",
       "      <td>Children can play and explore in the Step2 Nat...</td>\n",
       "      <td>600.00</td>\n",
       "    </tr>\n",
       "    <tr>\n",
       "      <th>5</th>\n",
       "      <td>74a695e3675efc2aad11ed73c46db29b</td>\n",
       "      <td>Slip N Slide Triple Racer with Slide Boogies</td>\n",
       "      <td>Triple Racer Slip and Slide with Boogie Boards...</td>\n",
       "      <td>37.21</td>\n",
       "    </tr>\n",
       "    <tr>\n",
       "      <th>6</th>\n",
       "      <td>3eae5293b56c25f63b47cb8a89fb4813</td>\n",
       "      <td>Hydro Tools Digital Pool/Spa Thermometer</td>\n",
       "      <td>The solar-powered Swimline Floating Digital Th...</td>\n",
       "      <td>15.92</td>\n",
       "    </tr>\n",
       "    <tr>\n",
       "      <th>7</th>\n",
       "      <td>ed85bf829a36c67042503ffd9b6ab475</td>\n",
       "      <td>Full Bucket Swing With Coated Chain Toddler Sw...</td>\n",
       "      <td>Safe Kids&amp;Children Full Bucket Swing With Coa...</td>\n",
       "      <td>102.26</td>\n",
       "    </tr>\n",
       "    <tr>\n",
       "      <th>8</th>\n",
       "      <td>55820fa53f0583cb637d5cb2b051d78c</td>\n",
       "      <td>Banzai Water Park Splash Zone</td>\n",
       "      <td>Dive into fun in your own backyard with the B...</td>\n",
       "      <td>397.82</td>\n",
       "    </tr>\n",
       "    <tr>\n",
       "      <th>9</th>\n",
       "      <td>0e26a9e92e4036bfaa68eb2040a8ec97</td>\n",
       "      <td>Polaris 39-310 5-Liter Zippered Super Bag for ...</td>\n",
       "      <td>Keep your pool water sparkling clean all seaso...</td>\n",
       "      <td>39.47</td>\n",
       "    </tr>\n",
       "  </tbody>\n",
       "</table>\n",
       "</div>"
      ],
      "text/plain": [
       "                         product_id  \\\n",
       "0  7e8697b5b7cdb5a40daf54caf1435cd5   \n",
       "1  7de8b315b3cb91f3680eb5b88a20dcee   \n",
       "2  fb9535c103d7d717f0414b2b111cfaaa   \n",
       "3  c73ea622b3be6a3ffa3b0b5490e4929e   \n",
       "4  dec7bd1f983887650715c6fafaa5b593   \n",
       "5  74a695e3675efc2aad11ed73c46db29b   \n",
       "6  3eae5293b56c25f63b47cb8a89fb4813   \n",
       "7  ed85bf829a36c67042503ffd9b6ab475   \n",
       "8  55820fa53f0583cb637d5cb2b051d78c   \n",
       "9  0e26a9e92e4036bfaa68eb2040a8ec97   \n",
       "\n",
       "                                        product_name  \\\n",
       "0  Koplow Games Set of 2 D12 12-Sided Rock, Paper...   \n",
       "1                    12\"-20\" Schwinn Training Wheels   \n",
       "2  Bicycle Pinochle Jumbo Index Playing Cards - 1...   \n",
       "3         Step2 Woodland Adventure Playhouse & Slide   \n",
       "4  Step2 Naturally Playful Welcome Home Playhouse...   \n",
       "5       Slip N Slide Triple Racer with Slide Boogies   \n",
       "6           Hydro Tools Digital Pool/Spa Thermometer   \n",
       "7  Full Bucket Swing With Coated Chain Toddler Sw...   \n",
       "8                      Banzai Water Park Splash Zone   \n",
       "9  Polaris 39-310 5-Liter Zippered Super Bag for ...   \n",
       "\n",
       "                                         description  list_price  \n",
       "0  Rock, paper, scissors is a great way to resolv...        3.56  \n",
       "1  Turn any small bicycle into an instrument for ...       28.17  \n",
       "2  Purchase includes 1 blue deck and 1 red deck. ...        6.49  \n",
       "3  The Step2 Woodland Climber Adventure Playhouse...      499.99  \n",
       "4  Children can play and explore in the Step2 Nat...      600.00  \n",
       "5  Triple Racer Slip and Slide with Boogie Boards...       37.21  \n",
       "6  The solar-powered Swimline Floating Digital Th...       15.92  \n",
       "7   Safe Kids&Children Full Bucket Swing With Coa...      102.26  \n",
       "8   Dive into fun in your own backyard with the B...      397.82  \n",
       "9  Keep your pool water sparkling clean all seaso...       39.47  "
      ]
     },
     "execution_count": 8,
     "metadata": {},
     "output_type": "execute_result"
    }
   ],
   "source": [
    "DATASET_URL = \"https://github.com/GoogleCloudPlatform/python-docs-samples/raw/main/cloud-sql/postgres/pgvector/data/retail_toy_dataset.csv\"\n",
    "\n",
    "df = pd.read_csv(DATASET_URL)\n",
    "df = df.loc[:, [\"product_id\", \"product_name\", \"description\", \"list_price\"]]\n",
    "df = df.dropna()\n",
    "\n",
    "df.head(10)"
   ]
  },
  {
   "cell_type": "code",
   "execution_count": 9,
   "id": "89afd3f2-6313-4157-b3f2-0bf144b345b4",
   "metadata": {},
   "outputs": [],
   "source": [
    "text_splitter = RecursiveCharacterTextSplitter(\n",
    "    separators=[\".\", \"\\n\"],\n",
    "    chunk_size=500,\n",
    "    chunk_overlap=0,\n",
    "    length_function=len,\n",
    ")\n",
    "\n",
    "chunked = []\n",
    "\n",
    "for index, row in df.iterrows():\n",
    "    product_id = row[\"product_id\"]\n",
    "    desc = row[\"description\"]\n",
    "    splits = text_splitter.create_documents([desc])\n",
    "    for s in splits:\n",
    "        r = {\"product_id\": product_id, \"content\": s.page_content}\n",
    "        chunked.append(r)"
   ]
  },
  {
   "cell_type": "code",
   "execution_count": 11,
   "id": "835afd5d-4e72-4be8-b7c6-7a0a17cd3a20",
   "metadata": {},
   "outputs": [
    {
     "data": {
      "text/plain": [
       "2669"
      ]
     },
     "execution_count": 11,
     "metadata": {},
     "output_type": "execute_result"
    }
   ],
   "source": [
    "len(chunked)"
   ]
  },
  {
   "cell_type": "code",
   "execution_count": 15,
   "id": "1b7c854b-0a9b-447e-918c-40ae7760acc0",
   "metadata": {},
   "outputs": [
    {
     "name": "stderr",
     "output_type": "stream",
     "text": [
      "100%|██████████| 2/2 [00:00<00:00,  2.13it/s]\n"
     ]
    }
   ],
   "source": [
    "batch_size = 5\n",
    "model = TextEmbeddingModel.from_pretrained(\"textembedding-gecko@001\")\n",
    "\n",
    "def retry_with_backoff(func, *args, retry_delay=5, backoff_factor=2, **kwargs):\n",
    "    max_attempts = 10\n",
    "    retries = 0\n",
    "    for i in range(max_attempts):\n",
    "        try:\n",
    "            return func(*args, **kwargs)\n",
    "        except Exception as e:\n",
    "            print(f\"error: {e}\")\n",
    "            retries += 1\n",
    "            wait = retry_delay * (backoff_factor**retries)\n",
    "            print(f\"Retry after waiting for {wait} seconds...\")\n",
    "            time.sleep(wait)\n",
    "\n",
    "for i in tqdm(range(0, len(chunked)-2660, batch_size)):\n",
    "    request_data = [x[\"content\"] for x in chunked[i : i + batch_size]]\n",
    "    response = retry_with_backoff(model.get_embeddings, request_data)\n",
    "    for x, e in zip(chunked[i : i + batch_size], response):\n",
    "        x[\"embedding\"] = e.values"
   ]
  },
  {
   "cell_type": "code",
   "execution_count": 16,
   "id": "98c6c0a7-4dcf-4e8b-80be-8cac4df52eb2",
   "metadata": {},
   "outputs": [
    {
     "data": {
      "text/html": [
       "<div>\n",
       "<style scoped>\n",
       "    .dataframe tbody tr th:only-of-type {\n",
       "        vertical-align: middle;\n",
       "    }\n",
       "\n",
       "    .dataframe tbody tr th {\n",
       "        vertical-align: top;\n",
       "    }\n",
       "\n",
       "    .dataframe thead th {\n",
       "        text-align: right;\n",
       "    }\n",
       "</style>\n",
       "<table border=\"1\" class=\"dataframe\">\n",
       "  <thead>\n",
       "    <tr style=\"text-align: right;\">\n",
       "      <th></th>\n",
       "      <th>product_id</th>\n",
       "      <th>content</th>\n",
       "      <th>embedding</th>\n",
       "    </tr>\n",
       "  </thead>\n",
       "  <tbody>\n",
       "    <tr>\n",
       "      <th>0</th>\n",
       "      <td>7e8697b5b7cdb5a40daf54caf1435cd5</td>\n",
       "      <td>Rock, paper, scissors is a great way to resolv...</td>\n",
       "      <td>[-0.014531989581882954, -0.01446803379803896, ...</td>\n",
       "    </tr>\n",
       "    <tr>\n",
       "      <th>1</th>\n",
       "      <td>7e8697b5b7cdb5a40daf54caf1435cd5</td>\n",
       "      <td>. Great for educational games, dice games, boa...</td>\n",
       "      <td>[-0.010937819257378578, -0.05220745503902435, ...</td>\n",
       "    </tr>\n",
       "    <tr>\n",
       "      <th>2</th>\n",
       "      <td>7de8b315b3cb91f3680eb5b88a20dcee</td>\n",
       "      <td>Turn any small bicycle into an instrument for ...</td>\n",
       "      <td>[-0.02734817937016487, -0.02363274060189724, 0...</td>\n",
       "    </tr>\n",
       "    <tr>\n",
       "      <th>3</th>\n",
       "      <td>7de8b315b3cb91f3680eb5b88a20dcee</td>\n",
       "      <td>. Durable Construction: Steel brackets stand u...</td>\n",
       "      <td>[-0.00025529583217576146, -0.02829601615667343...</td>\n",
       "    </tr>\n",
       "    <tr>\n",
       "      <th>4</th>\n",
       "      <td>7de8b315b3cb91f3680eb5b88a20dcee</td>\n",
       "      <td>. Tools required: Adjustable wrench. www.schwi...</td>\n",
       "      <td>[-0.012775714509189129, -0.02170153334736824, ...</td>\n",
       "    </tr>\n",
       "  </tbody>\n",
       "</table>\n",
       "</div>"
      ],
      "text/plain": [
       "                         product_id  \\\n",
       "0  7e8697b5b7cdb5a40daf54caf1435cd5   \n",
       "1  7e8697b5b7cdb5a40daf54caf1435cd5   \n",
       "2  7de8b315b3cb91f3680eb5b88a20dcee   \n",
       "3  7de8b315b3cb91f3680eb5b88a20dcee   \n",
       "4  7de8b315b3cb91f3680eb5b88a20dcee   \n",
       "\n",
       "                                             content  \\\n",
       "0  Rock, paper, scissors is a great way to resolv...   \n",
       "1  . Great for educational games, dice games, boa...   \n",
       "2  Turn any small bicycle into an instrument for ...   \n",
       "3  . Durable Construction: Steel brackets stand u...   \n",
       "4  . Tools required: Adjustable wrench. www.schwi...   \n",
       "\n",
       "                                           embedding  \n",
       "0  [-0.014531989581882954, -0.01446803379803896, ...  \n",
       "1  [-0.010937819257378578, -0.05220745503902435, ...  \n",
       "2  [-0.02734817937016487, -0.02363274060189724, 0...  \n",
       "3  [-0.00025529583217576146, -0.02829601615667343...  \n",
       "4  [-0.012775714509189129, -0.02170153334736824, ...  "
      ]
     },
     "execution_count": 16,
     "metadata": {},
     "output_type": "execute_result"
    }
   ],
   "source": [
    "product_embeddings = pd.DataFrame(chunked[:20])\n",
    "product_embeddings.head()"
   ]
  },
  {
   "cell_type": "code",
   "execution_count": null,
   "id": "0ecdbc71-b154-45ee-bc11-09de22370879",
   "metadata": {},
   "outputs": [],
   "source": []
  },
  {
   "cell_type": "code",
   "execution_count": 76,
   "id": "0e28c310-72ac-4456-91a3-dad0a446dc94",
   "metadata": {},
   "outputs": [],
   "source": [
    "async def main():\n",
    "    loop = asyncio.get_running_loop()\n",
    "    async with Connector(loop=loop) as connector:\n",
    "\n",
    "        conn: asyncpg.Connection = await connector.connect_async(\n",
    "            INSTANCE_CONNECTION_NAME,\n",
    "            \"asyncpg\",\n",
    "            user=DB_USER,\n",
    "            password=DB_PASS,\n",
    "            db=DB_NAME\n",
    "        )\n",
    "\n",
    "        await conn.execute(\"CREATE EXTENSION IF NOT EXISTS vector\")\n",
    "        await register_vector(conn)\n",
    "\n",
    "        await conn.execute(\"DROP TABLE IF EXISTS product_embeddings\")\n",
    "\n",
    "        await conn.execute(\n",
    "            \"\"\"CREATE TABLE product_embeddings(\n",
    "                                product_id VARCHAR(1024) NOT NULL REFERENCES products(product_id),\n",
    "                                content TEXT,\n",
    "                                embedding vector(768))\"\"\"\n",
    "        )\n",
    "\n",
    "        for index, row in tqdm(product_embeddings.iterrows()):\n",
    "            await conn.execute(\n",
    "                \"INSERT INTO product_embeddings (product_id, content, embedding) VALUES ($1, $2, $3)\",\n",
    "                row[\"product_id\"],\n",
    "                row[\"content\"],\n",
    "                np.array(row[\"embedding\"]),\n",
    "            )\n",
    "\n",
    "        await conn.close()"
   ]
  },
  {
   "cell_type": "code",
   "execution_count": 21,
   "id": "f0117c39-ad28-44a4-8196-8703aee5d35d",
   "metadata": {},
   "outputs": [],
   "source": [
    "comp = np.array(product_embeddings.iloc[0,2])"
   ]
  },
  {
   "cell_type": "code",
   "execution_count": 23,
   "id": "49b2ed6a-c873-411a-9c4b-5bc175c6df03",
   "metadata": {},
   "outputs": [
    {
     "data": {
      "text/plain": [
       "(768,)"
      ]
     },
     "execution_count": 23,
     "metadata": {},
     "output_type": "execute_result"
    }
   ],
   "source": [
    "comp.shape"
   ]
  },
  {
   "cell_type": "code",
   "execution_count": 77,
   "id": "fbea2869-a4b3-459d-94e7-6599bc699936",
   "metadata": {},
   "outputs": [
    {
     "name": "stderr",
     "output_type": "stream",
     "text": [
      "200it [00:03, 53.52it/s]\n"
     ]
    }
   ],
   "source": [
    "await main()"
   ]
  },
  {
   "cell_type": "code",
   "execution_count": 87,
   "id": "9ba1d3d4-7e0c-473e-8e06-1dd673fafbc6",
   "metadata": {},
   "outputs": [],
   "source": [
    "toy = \"small bicycle\"\n",
    "min_price = 25\n",
    "max_price = 100 \n",
    "\n",
    "embedding_query = model.get_embeddings([toy])[0]"
   ]
  },
  {
   "cell_type": "code",
   "execution_count": 89,
   "id": "096ced1a-af3b-44cb-a57a-443442ec827a",
   "metadata": {},
   "outputs": [
    {
     "data": {
      "text/plain": [
       "[-0.022654814645648003,\n",
       " -0.02820597030222416,\n",
       " 0.03192044794559479,\n",
       " 0.029981357976794243,\n",
       " -0.013982265256345272]"
      ]
     },
     "execution_count": 89,
     "metadata": {},
     "output_type": "execute_result"
    }
   ],
   "source": [
    "embedding_query.values[:5]"
   ]
  },
  {
   "cell_type": "code",
   "execution_count": 103,
   "id": "ae6f9633-7d24-4bf0-a566-2c1afcbf2062",
   "metadata": {},
   "outputs": [],
   "source": [
    "matches = []\n",
    "\n",
    "async def main():\n",
    "    loop = asyncio.get_running_loop()\n",
    "    async with Connector(loop=loop) as connector:\n",
    "\n",
    "        conn: asyncpg.Connection = await connector.connect_async(\n",
    "            INSTANCE_CONNECTION_NAME,\n",
    "            \"asyncpg\",\n",
    "            user=DB_USER,\n",
    "            password=DB_PASS,\n",
    "            db=DB_NAME\n",
    "        )\n",
    "\n",
    "        await register_vector(conn)\n",
    "        \n",
    "        similarity_threshold = 0.1\n",
    "        num_matches = 50\n",
    "\n",
    "        results = await conn.fetch(\n",
    "            \"\"\"\n",
    "                            WITH vector_matches AS (\n",
    "                              SELECT product_id, 1 - (embedding <=> $1) AS similarity\n",
    "                              FROM product_embeddings\n",
    "                              WHERE 1 - (embedding <=> $1) > $2\n",
    "                              ORDER BY similarity DESC\n",
    "                              LIMIT $3\n",
    "                            )\n",
    "                            SELECT p.product_name, p.list_price, p.description, v.similarity FROM products p\n",
    "                            JOIN vector_matches v ON p.product_id = v.product_id \n",
    "                            AND list_price >= $4 AND list_price <= $5\n",
    "                            ORDER BY v.similarity DESC\n",
    "                            \"\"\",\n",
    "            embedding_query.values,\n",
    "            similarity_threshold,\n",
    "            num_matches,\n",
    "            min_price,\n",
    "            max_price,\n",
    "        )\n",
    "\n",
    "        if len(results) == 0:\n",
    "            raise Exception(\"Did not find any results. Adjust the query parameters.\")\n",
    "\n",
    "        for r in results:\n",
    "\n",
    "            matches.append(\n",
    "                {\n",
    "                    \"product_name\": r[\"product_name\"],\n",
    "                    \"description\": r[\"description\"],\n",
    "                    \"similarity\": r[\"similarity\"],\n",
    "                    \"list_price\": round(r[\"list_price\"], 2),\n",
    "                }\n",
    "            )\n",
    "\n",
    "        await conn.close()"
   ]
  },
  {
   "cell_type": "code",
   "execution_count": 104,
   "id": "0cc46192-3fc9-4c95-b35f-f5cd8dd4a9c9",
   "metadata": {},
   "outputs": [
    {
     "data": {
      "text/html": [
       "<div>\n",
       "<style scoped>\n",
       "    .dataframe tbody tr th:only-of-type {\n",
       "        vertical-align: middle;\n",
       "    }\n",
       "\n",
       "    .dataframe tbody tr th {\n",
       "        vertical-align: top;\n",
       "    }\n",
       "\n",
       "    .dataframe thead th {\n",
       "        text-align: right;\n",
       "    }\n",
       "</style>\n",
       "<table border=\"1\" class=\"dataframe\">\n",
       "  <thead>\n",
       "    <tr style=\"text-align: right;\">\n",
       "      <th></th>\n",
       "      <th>product_name</th>\n",
       "      <th>description</th>\n",
       "      <th>similarity</th>\n",
       "      <th>list_price</th>\n",
       "    </tr>\n",
       "  </thead>\n",
       "  <tbody>\n",
       "    <tr>\n",
       "      <th>0</th>\n",
       "      <td>12\"-20\" Schwinn Training Wheels</td>\n",
       "      <td>Turn any small bicycle into an instrument for ...</td>\n",
       "      <td>0.639393</td>\n",
       "      <td>28.17</td>\n",
       "    </tr>\n",
       "    <tr>\n",
       "      <th>1</th>\n",
       "      <td>12\"-20\" Schwinn Training Wheels</td>\n",
       "      <td>Turn any small bicycle into an instrument for ...</td>\n",
       "      <td>0.637463</td>\n",
       "      <td>28.17</td>\n",
       "    </tr>\n",
       "    <tr>\n",
       "      <th>2</th>\n",
       "      <td>12\"-20\" Schwinn Training Wheels</td>\n",
       "      <td>Turn any small bicycle into an instrument for ...</td>\n",
       "      <td>0.622518</td>\n",
       "      <td>28.17</td>\n",
       "    </tr>\n",
       "    <tr>\n",
       "      <th>3</th>\n",
       "      <td>Beach Sandy Sand Remover Brush Pack for clean ...</td>\n",
       "      <td>SAND BE GONE! Effortlessly clean sand from fee...</td>\n",
       "      <td>0.621293</td>\n",
       "      <td>25.00</td>\n",
       "    </tr>\n",
       "    <tr>\n",
       "      <th>4</th>\n",
       "      <td>12\"-20\" Schwinn Training Wheels</td>\n",
       "      <td>Turn any small bicycle into an instrument for ...</td>\n",
       "      <td>0.608088</td>\n",
       "      <td>28.17</td>\n",
       "    </tr>\n",
       "  </tbody>\n",
       "</table>\n",
       "</div>"
      ],
      "text/plain": [
       "                                        product_name  \\\n",
       "0                    12\"-20\" Schwinn Training Wheels   \n",
       "1                    12\"-20\" Schwinn Training Wheels   \n",
       "2                    12\"-20\" Schwinn Training Wheels   \n",
       "3  Beach Sandy Sand Remover Brush Pack for clean ...   \n",
       "4                    12\"-20\" Schwinn Training Wheels   \n",
       "\n",
       "                                         description  similarity list_price  \n",
       "0  Turn any small bicycle into an instrument for ...    0.639393      28.17  \n",
       "1  Turn any small bicycle into an instrument for ...    0.637463      28.17  \n",
       "2  Turn any small bicycle into an instrument for ...    0.622518      28.17  \n",
       "3  SAND BE GONE! Effortlessly clean sand from fee...    0.621293      25.00  \n",
       "4  Turn any small bicycle into an instrument for ...    0.608088      28.17  "
      ]
     },
     "execution_count": 104,
     "metadata": {},
     "output_type": "execute_result"
    }
   ],
   "source": [
    "await main()\n",
    "\n",
    "matches = pd.DataFrame(matches)\n",
    "matches.head(5)"
   ]
  },
  {
   "cell_type": "code",
   "execution_count": null,
   "id": "d7f182c8-79d5-422a-8b97-83365217c3ab",
   "metadata": {},
   "outputs": [],
   "source": []
  },
  {
   "cell_type": "code",
   "execution_count": null,
   "id": "8f77d48d-12e3-4116-bed6-b8eeaf048600",
   "metadata": {},
   "outputs": [],
   "source": []
  },
  {
   "cell_type": "code",
   "execution_count": null,
   "id": "477ddd51-a660-4999-b75a-12b383b5c721",
   "metadata": {},
   "outputs": [],
   "source": []
  },
  {
   "cell_type": "code",
   "execution_count": null,
   "id": "a3317dac-f505-4523-a0b4-503f1af4501c",
   "metadata": {},
   "outputs": [],
   "source": [
    "class DatabaseInterface:\n",
    "    def __init__(self, instance_connection_name, db_user, db_pass, db_name):\n",
    "        self.instance_connection_name = instance_connection_name\n",
    "        self.db_user = db_user\n",
    "        self.db_pass = db_pass\n",
    "        self.db_name = db_name\n",
    "        self.connector = Connector()\n",
    "        self.pool = self.create_pool()\n",
    "\n",
    "    def get_conn(self):\n",
    "        conn = self.connector.connect(\n",
    "            self.instance_connection_name,\n",
    "            \"pg8000\",\n",
    "            user=self.db_user,\n",
    "            password=self.db_pass,\n",
    "            db=self.db_name\n",
    "        )\n",
    "        return conn\n",
    "\n",
    "    def create_pool(self):\n",
    "        return sqlalchemy.create_engine(\n",
    "            \"postgresql+pg8000://\",\n",
    "            creator=self.get_conn,\n",
    "        )\n",
    "    \n",
    "    def run_query(self, query):\n",
    "        with self.pool.connect() as connection:\n",
    "            result = connection.execute(text(query))\n",
    "            return result.fetchall()"
   ]
  }
 ],
 "metadata": {
  "environment": {
   "kernel": "python3",
   "name": "common-cu113.m110",
   "type": "gcloud",
   "uri": "gcr.io/deeplearning-platform-release/base-cu113:m110"
  },
  "kernelspec": {
   "display_name": "Python 3",
   "language": "python",
   "name": "python3"
  },
  "language_info": {
   "codemirror_mode": {
    "name": "ipython",
    "version": 3
   },
   "file_extension": ".py",
   "mimetype": "text/x-python",
   "name": "python",
   "nbconvert_exporter": "python",
   "pygments_lexer": "ipython3",
   "version": "3.10.12"
  }
 },
 "nbformat": 4,
 "nbformat_minor": 5
}
