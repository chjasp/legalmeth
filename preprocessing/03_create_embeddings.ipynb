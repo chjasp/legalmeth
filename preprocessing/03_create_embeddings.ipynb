{
 "cells": [
  {
   "cell_type": "code",
   "execution_count": 1,
   "id": "654678e5-5529-47bd-8c01-edb6356dee95",
   "metadata": {},
   "outputs": [],
   "source": [
    "# Embedding creation\n",
    "import torch\n",
    "from transformers import AutoTokenizer, AutoModel\n",
    "\n",
    "# DB connection\n",
    "from google.cloud.sql.connector import Connector\n",
    "import sqlalchemy\n",
    "from sqlalchemy import create_engine, text\n",
    "\n",
    "# Utils\n",
    "from tqdm import tqdm\n",
    "\n",
    "# Data processing\n",
    "from langchain.text_splitter import RecursiveCharacterTextSplitter\n",
    "import pandas as pd\n",
    "import numpy as np\n",
    "import os"
   ]
  },
  {
   "cell_type": "code",
   "execution_count": 2,
   "id": "2c040565-c9af-4350-a579-5110169ff7cb",
   "metadata": {},
   "outputs": [],
   "source": [
    "class DatabaseInterface:\n",
    "    def __init__(self, instance_connection_name, db_user, db_pass, db_name):\n",
    "        self.instance_connection_name = instance_connection_name\n",
    "        self.db_user = db_user\n",
    "        self.db_pass = db_pass\n",
    "        self.db_name = db_name\n",
    "        self.connector = Connector()\n",
    "        self.pool = self.create_pool()\n",
    "\n",
    "    def get_conn(self):\n",
    "        conn = self.connector.connect(\n",
    "            self.instance_connection_name,\n",
    "            \"pg8000\",\n",
    "            user=self.db_user,\n",
    "            password=self.db_pass,\n",
    "            db=self.db_name\n",
    "        )\n",
    "        return conn\n",
    "\n",
    "    def create_pool(self):\n",
    "        return create_engine(\n",
    "            \"postgresql+pg8000://\",\n",
    "            creator=self.get_conn,\n",
    "        )\n",
    "    \n",
    "    def run_query(self, query, fetch=True):\n",
    "        with self.pool.connect() as connection:\n",
    "            try:\n",
    "                result = connection.execute(text(query))\n",
    "                connection.commit() \n",
    "                if fetch:\n",
    "                    return result.fetchall()\n",
    "                else:\n",
    "                    return None\n",
    "            except Exception as e:\n",
    "                    print(\"EXCEPTION THROWN\")\n",
    "                    print(e)\n",
    "                    connection.rollback()  \n",
    "            \n",
    "    def insert_data_from_dataframe(self, dataframe, table_name):\n",
    "            try:\n",
    "                dataframe.to_sql(\n",
    "                    table_name,\n",
    "                    self.pool,\n",
    "                    if_exists='append',\n",
    "                    index=False,\n",
    "                    method='multi'\n",
    "                )\n",
    "            except Exception as e:\n",
    "                print(\"EXCEPTION THROWN DURING INSERT\")\n",
    "                print(e)\n",
    "        \n",
    "    def create_table(self, table_name, columns):\n",
    "        \"\"\"\n",
    "        Creates a table with the given name and columns.\n",
    "        :param table_name: The name of the table\n",
    "        :param columns: A dictionary where keys are column names and values are SQL data types\n",
    "        \"\"\"\n",
    "        cols = ', '.join(f'{col} {dtype}' for col, dtype in columns.items())\n",
    "        create_table_query = f'CREATE TABLE {table_name} ({cols});'\n",
    "        self.run_query(create_table_query, fetch=False)\n",
    "\n",
    "    def drop_table(self, table_name):\n",
    "        \"\"\"\n",
    "        Drops the table with the given name.\n",
    "        :param table_name: The name of the table\n",
    "        \"\"\"\n",
    "        drop_table_query = f'DROP TABLE {table_name};'\n",
    "        print(self.run_query(drop_table_query, fetch=False))"
   ]
  },
  {
   "cell_type": "code",
   "execution_count": 1,
   "id": "5e40f03d-ce5b-4fc4-8dbb-daf43a368da4",
   "metadata": {},
   "outputs": [
    {
     "ename": "NameError",
     "evalue": "name 'os' is not defined",
     "output_type": "error",
     "traceback": [
      "\u001b[0;31m---------------------------------------------------------------------------\u001b[0m",
      "\u001b[0;31mNameError\u001b[0m                                 Traceback (most recent call last)",
      "Cell \u001b[0;32mIn[1], line 1\u001b[0m\n\u001b[0;32m----> 1\u001b[0m project_id \u001b[38;5;241m=\u001b[39m \u001b[43mos\u001b[49m\u001b[38;5;241m.\u001b[39menviron\u001b[38;5;241m.\u001b[39mget(\u001b[38;5;124m\"\u001b[39m\u001b[38;5;124mPROJECT_ID\u001b[39m\u001b[38;5;124m\"\u001b[39m)\n\u001b[1;32m      2\u001b[0m region \u001b[38;5;241m=\u001b[39m \u001b[38;5;124m\"\u001b[39m\u001b[38;5;124meurope-west3\u001b[39m\u001b[38;5;124m\"\u001b[39m\n\u001b[1;32m      3\u001b[0m instance_name \u001b[38;5;241m=\u001b[39m \u001b[38;5;124m\"\u001b[39m\u001b[38;5;124mlegalm\u001b[39m\u001b[38;5;124m\"\u001b[39m\n",
      "\u001b[0;31mNameError\u001b[0m: name 'os' is not defined"
     ]
    }
   ],
   "source": [
    "project_id = os.environ.get(\"PROJECT_ID\")\n",
    "region = \"europe-west3\"\n",
    "instance_name = \"legalm\"\n",
    "\n",
    "DB_NAME = \"pubmed\"\n",
    "DB_USER = \"postgres\"\n",
    "DB_PASS = os.environ.get(\"DB_PASS\")\n",
    "DB_PORT = \"5432\"\n",
    "\n",
    "INSTANCE_CONNECTION_NAME = f\"{project_id}:{region}:{instance_name}\"\n",
    "print(f\"Your instance connection name is: {INSTANCE_CONNECTION_NAME}\")"
   ]
  },
  {
   "cell_type": "code",
   "execution_count": 4,
   "id": "2a747973-5f7d-47aa-ac20-784146bafdaa",
   "metadata": {},
   "outputs": [],
   "source": [
    "db_interface = DatabaseInterface(INSTANCE_CONNECTION_NAME, DB_USER, DB_PASS, DB_NAME)"
   ]
  },
  {
   "cell_type": "code",
   "execution_count": 5,
   "id": "2734d898-6f04-4278-8f10-31dfde1fbc47",
   "metadata": {},
   "outputs": [],
   "source": [
    "table_query = \"\"\"\n",
    "        SELECT tablename \n",
    "        FROM pg_catalog.pg_tables \n",
    "        WHERE schemaname != 'pg_catalog' \n",
    "        AND schemaname != 'information_schema';\n",
    "        \"\"\""
   ]
  },
  {
   "cell_type": "code",
   "execution_count": 6,
   "id": "3edb9dbc-f7f6-4f6a-a8c7-a9b9ff8ae84a",
   "metadata": {},
   "outputs": [
    {
     "data": {
      "text/plain": [
       "[('pm_abstracts',), ('pm_abstracts_embeddings',)]"
      ]
     },
     "execution_count": 6,
     "metadata": {},
     "output_type": "execute_result"
    }
   ],
   "source": [
    "db_interface.run_query(table_query)"
   ]
  },
  {
   "cell_type": "code",
   "execution_count": 10,
   "id": "3d045237-8140-47dc-b2e3-b6009aaa151e",
   "metadata": {},
   "outputs": [],
   "source": [
    "abstracts_query = \"\"\"\n",
    "                  SELECT * FROM pm_abstracts;\n",
    "                  \"\"\""
   ]
  },
  {
   "cell_type": "code",
   "execution_count": 11,
   "id": "ae25ad1e-b4b6-4d1a-9c90-a6210fc8efb9",
   "metadata": {},
   "outputs": [],
   "source": [
    "all_abstracts = db_interface.run_query(abstracts_query)"
   ]
  },
  {
   "cell_type": "code",
   "execution_count": 12,
   "id": "67e6f7fe-90e5-4d11-91eb-449469d594f8",
   "metadata": {},
   "outputs": [],
   "source": [
    "text_splitter = RecursiveCharacterTextSplitter(\n",
    "    separators=[\".\", \"\\n\"],\n",
    "    chunk_size=500,\n",
    "    chunk_overlap=0,\n",
    "    length_function=len,\n",
    ")"
   ]
  },
  {
   "cell_type": "code",
   "execution_count": 13,
   "id": "e3fa7e1f-47cb-4fb5-8daf-54bb2446f661",
   "metadata": {},
   "outputs": [
    {
     "name": "stderr",
     "output_type": "stream",
     "text": [
      "100%|██████████| 17076/17076 [00:01<00:00, 12645.14it/s]\n"
     ]
    }
   ],
   "source": [
    "chunked = []\n",
    "\n",
    "# Iterate over each tuple in the list\n",
    "for abstract_tuple in tqdm(all_abstracts):\n",
    "    pmid, title, abstract, _ = abstract_tuple  # Unpack the tuple\n",
    "    \n",
    "    splits = text_splitter.create_documents([abstract])\n",
    "    for s in splits:\n",
    "        r = {\"pmid\": pmid, \"title\": title, \"abstract\": s.page_content}\n",
    "        chunked.append(r)"
   ]
  },
  {
   "cell_type": "code",
   "execution_count": 15,
   "id": "3497c5cb-da42-4b00-a76c-2e30a54db262",
   "metadata": {},
   "outputs": [],
   "source": [
    "model_name = \"bert-base-uncased\"\n",
    "\n",
    "tokenizer = AutoTokenizer.from_pretrained(model_name)\n",
    "model = AutoModel.from_pretrained(model_name)"
   ]
  },
  {
   "cell_type": "code",
   "execution_count": 16,
   "id": "e97f69c9-cce1-48e0-87f2-6360430eb8d9",
   "metadata": {},
   "outputs": [],
   "source": [
    "# Extract all abstracts\n",
    "all_abstracts = [item[\"abstract\"] for item in chunked]\n",
    "\n",
    "# Tokenize all abstracts at once\n",
    "all_tokenized_inputs = tokenizer(all_abstracts, return_tensors=\"pt\", padding=True, truncation=True)"
   ]
  },
  {
   "cell_type": "code",
   "execution_count": 19,
   "id": "84dfb6b7-b91f-4a31-b6da-182727814576",
   "metadata": {},
   "outputs": [
    {
     "name": "stderr",
     "output_type": "stream",
     "text": [
      "100%|██████████| 30/30 [10:29<00:00, 21.00s/it]\n"
     ]
    }
   ],
   "source": [
    "# Initialize an empty list to store the data\n",
    "data = []\n",
    "batch_size = 64\n",
    "decrease_by = 69000\n",
    "\n",
    "# Loop through the tokenized inputs in batches\n",
    "for i in tqdm(range(0, len(chunked) - decrease_by, batch_size)):\n",
    "    batch_abstracts_dicts = chunked[i:i+batch_size]\n",
    "    \n",
    "    # Extract the relevant slices from the pre-tokenized inputs\n",
    "    batch_input_ids = all_tokenized_inputs['input_ids'][i:i+batch_size]\n",
    "    batch_attention_mask = all_tokenized_inputs['attention_mask'][i:i+batch_size]\n",
    "    \n",
    "    # Generate embeddings for the encoded text\n",
    "    with torch.no_grad():\n",
    "        outputs = model(input_ids=batch_input_ids, attention_mask=batch_attention_mask)\n",
    "        batch_embeddings = outputs.last_hidden_state[:, 0, :].numpy()\n",
    "\n",
    "    # Append the data to the list\n",
    "    for j, embedding in enumerate(batch_embeddings):\n",
    "        pmid = batch_abstracts_dicts[j][\"pmid\"]\n",
    "        title = batch_abstracts_dicts[j][\"title\"]\n",
    "        abstract = batch_abstracts_dicts[j][\"abstract\"]\n",
    "        data.append([pmid, title, abstract, embedding])"
   ]
  },
  {
   "cell_type": "code",
   "execution_count": 20,
   "id": "c51a1bf4-7adc-4947-b73b-d1c4138d93fb",
   "metadata": {},
   "outputs": [],
   "source": [
    "df = pd.DataFrame(data, columns=['pmid', 'title', 'abstract', 'embedding'])\n",
    "# df['abstract'] = df['abstract'].apply(lambda x: np.array(x))"
   ]
  },
  {
   "cell_type": "code",
   "execution_count": 21,
   "id": "59819e51-4776-4649-81ae-d9a04db49cb8",
   "metadata": {},
   "outputs": [
    {
     "data": {
      "text/plain": [
       "(1920, 4)"
      ]
     },
     "execution_count": 21,
     "metadata": {},
     "output_type": "execute_result"
    }
   ],
   "source": [
    "df.shape"
   ]
  },
  {
   "cell_type": "code",
   "execution_count": 22,
   "id": "0d544877-3a90-49f2-8b20-cd43a73f522b",
   "metadata": {},
   "outputs": [
    {
     "data": {
      "text/plain": [
       "[]"
      ]
     },
     "execution_count": 22,
     "metadata": {},
     "output_type": "execute_result"
    }
   ],
   "source": [
    "db_interface.run_query(\"select * from pm_abstracts_embeddings\")"
   ]
  },
  {
   "cell_type": "code",
   "execution_count": 23,
   "id": "710394dc-1e87-4e97-bdb9-21b0377b4519",
   "metadata": {},
   "outputs": [
    {
     "data": {
      "text/plain": [
       "pmid          int64\n",
       "title        object\n",
       "abstract     object\n",
       "embedding    object\n",
       "dtype: object"
      ]
     },
     "execution_count": 23,
     "metadata": {},
     "output_type": "execute_result"
    }
   ],
   "source": [
    "df.dtypes"
   ]
  },
  {
   "cell_type": "code",
   "execution_count": 24,
   "id": "b39a3640-e664-4146-85eb-79d6f7f6ce80",
   "metadata": {},
   "outputs": [],
   "source": [
    "# df.to_csv('4096_pubmed.csv', index=False)"
   ]
  },
  {
   "cell_type": "code",
   "execution_count": 25,
   "id": "0b9ba9f7-24dc-4845-a981-35994eb2fdb9",
   "metadata": {},
   "outputs": [],
   "source": [
    "db_interface.run_query(\"TRUNCATE pm_abstracts_embeddings\", fetch=False)"
   ]
  },
  {
   "cell_type": "code",
   "execution_count": 26,
   "id": "a495c809-ee54-4a33-a1fb-b1291ee030b9",
   "metadata": {},
   "outputs": [],
   "source": [
    "orig = df.iloc[0,3]"
   ]
  },
  {
   "cell_type": "code",
   "execution_count": 27,
   "id": "e3a66457-0405-424d-9681-053e0e936f74",
   "metadata": {},
   "outputs": [
    {
     "data": {
      "text/plain": [
       "(768,)"
      ]
     },
     "execution_count": 27,
     "metadata": {},
     "output_type": "execute_result"
    }
   ],
   "source": [
    "orig.shape"
   ]
  },
  {
   "cell_type": "code",
   "execution_count": 28,
   "id": "b20cc264-c083-41ee-8080-2dca1a85b6f6",
   "metadata": {},
   "outputs": [
    {
     "data": {
      "text/plain": [
       "numpy.ndarray"
      ]
     },
     "execution_count": 28,
     "metadata": {},
     "output_type": "execute_result"
    }
   ],
   "source": [
    "type(orig)"
   ]
  },
  {
   "cell_type": "code",
   "execution_count": 126,
   "id": "c9fdcc75-e024-4903-8bfa-989f6846ec52",
   "metadata": {},
   "outputs": [],
   "source": [
    "insert_query = f\"\"\"\n",
    "               INSERT INTO pm_abstracts_embeddings (pmid, title, abstract, embedding) \n",
    "               VALUES (123, 'Tit', 'abs', {orig})\n",
    "               \"\"\""
   ]
  },
  {
   "cell_type": "code",
   "execution_count": 128,
   "id": "883f5eac-f89e-47e8-a5e3-fac24293893e",
   "metadata": {},
   "outputs": [
    {
     "name": "stdout",
     "output_type": "stream",
     "text": [
      "EXCEPTION THROWN\n",
      "This result object does not return rows. It has been closed automatically.\n"
     ]
    }
   ],
   "source": [
    "db_interface.run_query(\"CREATE EXTENSION IF NOT EXISTS vector\")"
   ]
  },
  {
   "cell_type": "code",
   "execution_count": 131,
   "id": "6fa4926b-98b0-4b5e-938e-17607b416da9",
   "metadata": {},
   "outputs": [
    {
     "data": {
      "text/html": [
       "<div>\n",
       "<style scoped>\n",
       "    .dataframe tbody tr th:only-of-type {\n",
       "        vertical-align: middle;\n",
       "    }\n",
       "\n",
       "    .dataframe tbody tr th {\n",
       "        vertical-align: top;\n",
       "    }\n",
       "\n",
       "    .dataframe thead th {\n",
       "        text-align: right;\n",
       "    }\n",
       "</style>\n",
       "<table border=\"1\" class=\"dataframe\">\n",
       "  <thead>\n",
       "    <tr style=\"text-align: right;\">\n",
       "      <th></th>\n",
       "      <th>product_id</th>\n",
       "      <th>product_name</th>\n",
       "      <th>description</th>\n",
       "      <th>list_price</th>\n",
       "    </tr>\n",
       "  </thead>\n",
       "  <tbody>\n",
       "    <tr>\n",
       "      <th>0</th>\n",
       "      <td>7e8697b5b7cdb5a40daf54caf1435cd5</td>\n",
       "      <td>Koplow Games Set of 2 D12 12-Sided Rock, Paper...</td>\n",
       "      <td>Rock, paper, scissors is a great way to resolv...</td>\n",
       "      <td>3.56</td>\n",
       "    </tr>\n",
       "    <tr>\n",
       "      <th>1</th>\n",
       "      <td>7de8b315b3cb91f3680eb5b88a20dcee</td>\n",
       "      <td>12\"-20\" Schwinn Training Wheels</td>\n",
       "      <td>Turn any small bicycle into an instrument for ...</td>\n",
       "      <td>28.17</td>\n",
       "    </tr>\n",
       "    <tr>\n",
       "      <th>2</th>\n",
       "      <td>fb9535c103d7d717f0414b2b111cfaaa</td>\n",
       "      <td>Bicycle Pinochle Jumbo Index Playing Cards - 1...</td>\n",
       "      <td>Purchase includes 1 blue deck and 1 red deck. ...</td>\n",
       "      <td>6.49</td>\n",
       "    </tr>\n",
       "    <tr>\n",
       "      <th>3</th>\n",
       "      <td>c73ea622b3be6a3ffa3b0b5490e4929e</td>\n",
       "      <td>Step2 Woodland Adventure Playhouse &amp; Slide</td>\n",
       "      <td>The Step2 Woodland Climber Adventure Playhouse...</td>\n",
       "      <td>499.99</td>\n",
       "    </tr>\n",
       "    <tr>\n",
       "      <th>4</th>\n",
       "      <td>dec7bd1f983887650715c6fafaa5b593</td>\n",
       "      <td>Step2 Naturally Playful Welcome Home Playhouse...</td>\n",
       "      <td>Children can play and explore in the Step2 Nat...</td>\n",
       "      <td>600.00</td>\n",
       "    </tr>\n",
       "    <tr>\n",
       "      <th>5</th>\n",
       "      <td>74a695e3675efc2aad11ed73c46db29b</td>\n",
       "      <td>Slip N Slide Triple Racer with Slide Boogies</td>\n",
       "      <td>Triple Racer Slip and Slide with Boogie Boards...</td>\n",
       "      <td>37.21</td>\n",
       "    </tr>\n",
       "    <tr>\n",
       "      <th>6</th>\n",
       "      <td>3eae5293b56c25f63b47cb8a89fb4813</td>\n",
       "      <td>Hydro Tools Digital Pool/Spa Thermometer</td>\n",
       "      <td>The solar-powered Swimline Floating Digital Th...</td>\n",
       "      <td>15.92</td>\n",
       "    </tr>\n",
       "    <tr>\n",
       "      <th>7</th>\n",
       "      <td>ed85bf829a36c67042503ffd9b6ab475</td>\n",
       "      <td>Full Bucket Swing With Coated Chain Toddler Sw...</td>\n",
       "      <td>Safe Kids&amp;Children Full Bucket Swing With Coa...</td>\n",
       "      <td>102.26</td>\n",
       "    </tr>\n",
       "    <tr>\n",
       "      <th>8</th>\n",
       "      <td>55820fa53f0583cb637d5cb2b051d78c</td>\n",
       "      <td>Banzai Water Park Splash Zone</td>\n",
       "      <td>Dive into fun in your own backyard with the B...</td>\n",
       "      <td>397.82</td>\n",
       "    </tr>\n",
       "    <tr>\n",
       "      <th>9</th>\n",
       "      <td>0e26a9e92e4036bfaa68eb2040a8ec97</td>\n",
       "      <td>Polaris 39-310 5-Liter Zippered Super Bag for ...</td>\n",
       "      <td>Keep your pool water sparkling clean all seaso...</td>\n",
       "      <td>39.47</td>\n",
       "    </tr>\n",
       "  </tbody>\n",
       "</table>\n",
       "</div>"
      ],
      "text/plain": [
       "                         product_id  \\\n",
       "0  7e8697b5b7cdb5a40daf54caf1435cd5   \n",
       "1  7de8b315b3cb91f3680eb5b88a20dcee   \n",
       "2  fb9535c103d7d717f0414b2b111cfaaa   \n",
       "3  c73ea622b3be6a3ffa3b0b5490e4929e   \n",
       "4  dec7bd1f983887650715c6fafaa5b593   \n",
       "5  74a695e3675efc2aad11ed73c46db29b   \n",
       "6  3eae5293b56c25f63b47cb8a89fb4813   \n",
       "7  ed85bf829a36c67042503ffd9b6ab475   \n",
       "8  55820fa53f0583cb637d5cb2b051d78c   \n",
       "9  0e26a9e92e4036bfaa68eb2040a8ec97   \n",
       "\n",
       "                                        product_name  \\\n",
       "0  Koplow Games Set of 2 D12 12-Sided Rock, Paper...   \n",
       "1                    12\"-20\" Schwinn Training Wheels   \n",
       "2  Bicycle Pinochle Jumbo Index Playing Cards - 1...   \n",
       "3         Step2 Woodland Adventure Playhouse & Slide   \n",
       "4  Step2 Naturally Playful Welcome Home Playhouse...   \n",
       "5       Slip N Slide Triple Racer with Slide Boogies   \n",
       "6           Hydro Tools Digital Pool/Spa Thermometer   \n",
       "7  Full Bucket Swing With Coated Chain Toddler Sw...   \n",
       "8                      Banzai Water Park Splash Zone   \n",
       "9  Polaris 39-310 5-Liter Zippered Super Bag for ...   \n",
       "\n",
       "                                         description  list_price  \n",
       "0  Rock, paper, scissors is a great way to resolv...        3.56  \n",
       "1  Turn any small bicycle into an instrument for ...       28.17  \n",
       "2  Purchase includes 1 blue deck and 1 red deck. ...        6.49  \n",
       "3  The Step2 Woodland Climber Adventure Playhouse...      499.99  \n",
       "4  Children can play and explore in the Step2 Nat...      600.00  \n",
       "5  Triple Racer Slip and Slide with Boogie Boards...       37.21  \n",
       "6  The solar-powered Swimline Floating Digital Th...       15.92  \n",
       "7   Safe Kids&Children Full Bucket Swing With Coa...      102.26  \n",
       "8   Dive into fun in your own backyard with the B...      397.82  \n",
       "9  Keep your pool water sparkling clean all seaso...       39.47  "
      ]
     },
     "execution_count": 131,
     "metadata": {},
     "output_type": "execute_result"
    }
   ],
   "source": [
    "DATASET_URL = \"https://github.com/GoogleCloudPlatform/python-docs-samples/raw/main/cloud-sql/postgres/pgvector/data/retail_toy_dataset.csv\"\n",
    "\n",
    "df2 = pd.read_csv(DATASET_URL)\n",
    "df2 = df2.loc[:, [\"product_id\", \"product_name\", \"description\", \"list_price\"]]\n",
    "df2 = df2.dropna()\n",
    "\n",
    "df2.head(10)"
   ]
  },
  {
   "cell_type": "code",
   "execution_count": 133,
   "id": "441529ce-df21-4507-9646-fb9770912e63",
   "metadata": {},
   "outputs": [],
   "source": [
    "text_splitter = RecursiveCharacterTextSplitter(\n",
    "    separators=[\".\", \"\\n\"],\n",
    "    chunk_size=500,\n",
    "    chunk_overlap=0,\n",
    "    length_function=len,\n",
    ")\n",
    "\n",
    "chunked = []\n",
    "\n",
    "for index, row in df2.iterrows():\n",
    "    product_id = row[\"product_id\"]\n",
    "    desc = row[\"description\"]\n",
    "    splits = text_splitter.create_documents([desc])\n",
    "    for s in splits:\n",
    "        r = {\"product_id\": product_id, \"content\": s.page_content}\n",
    "        chunked.append(r)"
   ]
  },
  {
   "cell_type": "code",
   "execution_count": 134,
   "id": "c2426223-33a2-4dc0-8d21-33e9ded474ec",
   "metadata": {},
   "outputs": [
    {
     "data": {
      "text/plain": [
       "2669"
      ]
     },
     "execution_count": 134,
     "metadata": {},
     "output_type": "execute_result"
    }
   ],
   "source": [
    "len(chunked)"
   ]
  },
  {
   "cell_type": "code",
   "execution_count": 136,
   "id": "c2dd8234-8c37-4ded-b4c6-accf9536c2e7",
   "metadata": {},
   "outputs": [],
   "source": [
    "from vertexai.language_models import TextEmbeddingModel"
   ]
  },
  {
   "cell_type": "code",
   "execution_count": 137,
   "id": "59f73fcb-12be-462b-889a-5e89fb3f1c23",
   "metadata": {},
   "outputs": [
    {
     "name": "stderr",
     "output_type": "stream",
     "text": [
      "100%|██████████| 2/2 [00:00<00:00,  2.06it/s]\n"
     ]
    }
   ],
   "source": [
    "batch_size = 5\n",
    "model = TextEmbeddingModel.from_pretrained(\"textembedding-gecko@001\")\n",
    "\n",
    "def retry_with_backoff(func, *args, retry_delay=5, backoff_factor=2, **kwargs):\n",
    "    max_attempts = 10\n",
    "    retries = 0\n",
    "    for i in range(max_attempts):\n",
    "        try:\n",
    "            return func(*args, **kwargs)\n",
    "        except Exception as e:\n",
    "            print(f\"error: {e}\")\n",
    "            retries += 1\n",
    "            wait = retry_delay * (backoff_factor**retries)\n",
    "            print(f\"Retry after waiting for {wait} seconds...\")\n",
    "            time.sleep(wait)\n",
    "\n",
    "for i in tqdm(range(0, len(chunked)-2660, batch_size)):\n",
    "    request_data = [x[\"content\"] for x in chunked[i : i + batch_size]]\n",
    "    response = retry_with_backoff(model.get_embeddings, request_data)\n",
    "    for x, e in zip(chunked[i : i + batch_size], response):\n",
    "        x[\"embedding\"] = e.values"
   ]
  },
  {
   "cell_type": "code",
   "execution_count": 179,
   "id": "efad5043-8db9-43d4-87fa-e0fac4e0db90",
   "metadata": {},
   "outputs": [],
   "source": [
    "d = pd.read_csv(\"4096_pubmed.csv\")"
   ]
  },
  {
   "cell_type": "code",
   "execution_count": 158,
   "id": "688aab2c-9507-46a3-832a-6de232f626f5",
   "metadata": {},
   "outputs": [],
   "source": [
    "row = chunked[0]\n",
    "embedding = np.array(row[\"embedding\"])\n",
    "product_id = row[\"product_id\"]\n",
    "\n",
    "e = embedding.tolist()"
   ]
  },
  {
   "cell_type": "code",
   "execution_count": 159,
   "id": "c5444ac2-ac27-4064-a536-7445a4e6743b",
   "metadata": {},
   "outputs": [],
   "source": [
    "ni_query = f\"INSERT INTO products (product_id, embedding) VALUES ('{product_id}', ARRAY{e})\""
   ]
  },
  {
   "cell_type": "code",
   "execution_count": 45,
   "id": "7f03db76-26ed-426a-8962-d9942cc03ae4",
   "metadata": {},
   "outputs": [],
   "source": [
    "db_interface.run_query(\"TRUNCATE pm_abstracts_embeddings\", fetch=False)"
   ]
  },
  {
   "cell_type": "code",
   "execution_count": 46,
   "id": "43a8ba68-9561-4e8d-8732-aea4d8652a15",
   "metadata": {},
   "outputs": [
    {
     "name": "stderr",
     "output_type": "stream",
     "text": [
      "100%|██████████| 1920/1920 [02:36<00:00, 12.27it/s]\n"
     ]
    }
   ],
   "source": [
    "for i in tqdm(range(0, len(df))):\n",
    "    r = df.iloc[i]\n",
    "    \n",
    "    # Define the SQL template with placeholders\n",
    "    insert_query = \"\"\"\n",
    "        INSERT INTO pm_abstracts_embeddings (pmid, title, abstract, embedding) \n",
    "        VALUES (:pmid, :title, :abstract, :embedding)\"\"\"\n",
    "\n",
    "    # Create a dictionary of the values to insert\n",
    "    values_to_insert = {\n",
    "        \"pmid\": r[\"pmid\"],\n",
    "        \"title\": r[\"title\"],\n",
    "        \"abstract\": r[\"abstract\"],\n",
    "        \"embedding\": str(r[\"embedding\"].tolist())\n",
    "    }\n",
    "\n",
    "    # Execute the parameterized query\n",
    "    try:\n",
    "        with db_interface.pool.connect() as connection:\n",
    "            connection.execute(text(insert_query), values_to_insert)\n",
    "            connection.commit()\n",
    "    except Exception as e:\n",
    "        print(\"EXCEPTION THROWN\")\n",
    "        print(e)\n",
    "        connection.rollback()"
   ]
  },
  {
   "cell_type": "code",
   "execution_count": 1,
   "id": "a80abeff-8e7b-4a3e-9ecd-f79d0a93cd03",
   "metadata": {},
   "outputs": [
    {
     "ename": "NameError",
     "evalue": "name 'db_interface' is not defined",
     "output_type": "error",
     "traceback": [
      "\u001b[0;31m---------------------------------------------------------------------------\u001b[0m",
      "\u001b[0;31mNameError\u001b[0m                                 Traceback (most recent call last)",
      "Cell \u001b[0;32mIn[1], line 1\u001b[0m\n\u001b[0;32m----> 1\u001b[0m \u001b[43mdb_interface\u001b[49m\u001b[38;5;241m.\u001b[39mrun_query(\u001b[38;5;124m\"\u001b[39m\u001b[38;5;124mSELECT * FROM pm_abstracts_embeddings LIMIT 10\u001b[39m\u001b[38;5;124m\"\u001b[39m)\n",
      "\u001b[0;31mNameError\u001b[0m: name 'db_interface' is not defined"
     ]
    }
   ],
   "source": [
    "db_interface.run_query(\"SELECT * FROM pm_abstracts_embeddings LIMIT 10\")"
   ]
  },
  {
   "cell_type": "code",
   "execution_count": 75,
   "id": "d16678ed-1eb2-48b4-804a-bb9d5f492531",
   "metadata": {},
   "outputs": [],
   "source": [
    "matches = []\n",
    "\n",
    "similarity_threshold = 0.001\n",
    "num_matches = 50\n",
    "\n",
    "user_query_embedding = str(df.iloc[0][\"embedding\"].tolist())\n",
    "\n",
    "sim_query_values = {\n",
    "                    \"user_query_embedding\": user_query_embedding,\n",
    "                    \"similarity_threshold\": similarity_threshold,\n",
    "                    \"num_matches\": num_matches\n",
    "                    }\n",
    "\n",
    "sim_query = \"\"\"SELECT pmid, 1 - (embedding <=> :user_query_embedding) AS similarity\n",
    "               FROM pm_abstracts_embeddings\n",
    "               WHERE 1 - (embedding <=> :user_query_embedding) > :similarity_threshold\n",
    "               ORDER BY similarity DESC\n",
    "               LIMIT :num_matches\n",
    "            \"\"\""
   ]
  },
  {
   "cell_type": "code",
   "execution_count": 76,
   "id": "2f120e7f-fc4b-4f52-bd31-723a8ea1478f",
   "metadata": {},
   "outputs": [
    {
     "name": "stdout",
     "output_type": "stream",
     "text": [
      "[(36434554, 1.0), (36434608, 0.9044531030761114), (36434749, 0.8958483012400144), (36434719, 0.8928046178408402), (36434749, 0.8859170543228674), (36434830, 0.8841930280460857), (36434770, 0.8833488838780184), (36434616, 0.8831285908356069), (36434938, 0.8811583147877649), (36434839, 0.8805230177790722), (36434667, 0.878112647238501), (36435391, 0.8756767229825894), (36434591, 0.8752964718876801), (36434955, 0.8746033887535118), (36434729, 0.8741800456871791), (36434667, 0.8712848973639666), (36434835, 0.8709204070308273), (36434706, 0.870667826012837), (36434938, 0.8695244731661221), (36434943, 0.8685940810484042), (36434990, 0.8679936489331247), (36434674, 0.8660701011103776), (36434679, 0.8642882054951763), (36435057, 0.8639257081413138), (36434667, 0.8601994747306938), (36434689, 0.8591346423946651), (36435088, 0.8590170164448878), (36434591, 0.857740304148317), (36434602, 0.8564888007690586), (36434574, 0.8552545837595658), (36434976, 0.8552462878318501), (36434741, 0.8542269531610949), (36434673, 0.8519924396494464), (36435058, 0.8519792230929779), (36434591, 0.8519244739654646), (36434874, 0.8513977166916804), (36434678, 0.8511453555536901), (36434685, 0.8510888292880437), (36434797, 0.8510685428360514), (36435229, 0.8508699949869465), (36434556, 0.8506920788354789), (36434731, 0.8501782286028402), (36434946, 0.8498135051147931), (36434776, 0.8495953955042416), (36434916, 0.848107055221739), (36434927, 0.8478251226241156), (36435031, 0.8475666754659296), (36434668, 0.8464260041569462), (36435097, 0.8452335927972088), (36435122, 0.8449797109304753)]\n"
     ]
    }
   ],
   "source": [
    "results = []\n",
    "\n",
    "try:\n",
    "    with db_interface.pool.connect() as connection:\n",
    "        cursor = connection.execute(text(sim_query), sim_query_values)\n",
    "        results = cursor.fetchall()\n",
    "        connection.commit()\n",
    "except Exception as e:\n",
    "    print(\"EXCEPTION THROWN\")\n",
    "    print(e)\n",
    "    connection.rollback()\n",
    "        \n",
    "if len(results) == 0:\n",
    "    raise Exception(\"Did not find any results. Adjust the query parameters.\")\n",
    "    \n",
    "print(results)"
   ]
  },
  {
   "cell_type": "code",
   "execution_count": null,
   "id": "c764adbc-9d90-4022-bd3c-d119c3526d0d",
   "metadata": {},
   "outputs": [],
   "source": []
  }
 ],
 "metadata": {
  "environment": {
   "kernel": "python3",
   "name": "common-cu113.m110",
   "type": "gcloud",
   "uri": "gcr.io/deeplearning-platform-release/base-cu113:m110"
  },
  "kernelspec": {
   "display_name": "Python 3",
   "language": "python",
   "name": "python3"
  },
  "language_info": {
   "codemirror_mode": {
    "name": "ipython",
    "version": 3
   },
   "file_extension": ".py",
   "mimetype": "text/x-python",
   "name": "python",
   "nbconvert_exporter": "python",
   "pygments_lexer": "ipython3",
   "version": "3.10.12"
  }
 },
 "nbformat": 4,
 "nbformat_minor": 5
}
