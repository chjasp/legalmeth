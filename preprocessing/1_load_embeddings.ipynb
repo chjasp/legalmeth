{
 "cells": [
  {
   "cell_type": "code",
   "execution_count": 91,
   "id": "0a964168-f7a1-48eb-8fea-38287d624ac9",
   "metadata": {},
   "outputs": [],
   "source": [
    "# Data processing\n",
    "from langchain.text_splitter import RecursiveCharacterTextSplitter\n",
    "import pandas as pd\n",
    "import os\n",
    "\n",
    "# DB connection\n",
    "from google.cloud.sql.connector import Connector\n",
    "import sqlalchemy\n",
    "from sqlalchemy import create_engine, text\n",
    "\n",
    "# Embeddings\n",
    "from vertexai.language_models import TextEmbeddingModel\n",
    "\n",
    "# Utils\n",
    "import time\n",
    "from tqdm import tqdm\n",
    "import numpy as np"
   ]
  },
  {
   "cell_type": "code",
   "execution_count": 3,
   "id": "38f9c874-cac7-408f-a870-1aa961bebdd8",
   "metadata": {},
   "outputs": [],
   "source": [
    "class DataProcessor:\n",
    "    def __init__(self, df, text_splitter):\n",
    "        self.df = df\n",
    "        self.text_splitter = text_splitter\n",
    "        self.chunked = []\n",
    "        \n",
    "    def process(self):\n",
    "        for index, row in self.df.iterrows():\n",
    "            product_id = row[\"product_id\"]\n",
    "            desc = row[\"description\"]\n",
    "            splits = self.text_splitter.create_documents([desc])\n",
    "            for s in splits:\n",
    "                r = {\"product_id\": product_id, \"content\": s.page_content}\n",
    "                self.chunked.append(r)\n",
    "        return self.chunked"
   ]
  },
  {
   "cell_type": "code",
   "execution_count": 32,
   "id": "254a662d-2274-4b23-9944-6324a53afeec",
   "metadata": {},
   "outputs": [],
   "source": [
    "class EmbeddingGenerator:\n",
    "    def __init__(self, model, batch_size):\n",
    "        self.model = model\n",
    "        self.batch_size = batch_size\n",
    "        \n",
    "    def generate_embeddings(self, chunked):\n",
    "        for i in tqdm(range(0, len(chunked), self.batch_size)):\n",
    "            request_data = [c[\"content\"] for c in chunked[i: i + self.batch_size]]\n",
    "            response = self.retry_with_backoff(self.model.get_embeddings, request_data)\n",
    "            for c, e in zip(chunked[i: i + self.batch_size], response):\n",
    "                c[\"embedding\"] = e.values\n",
    "                \n",
    "    def retry_with_backoff(self, func, *args, retry_delay=5, backoff_factor=2):\n",
    "        max_attempts = 10\n",
    "        retries = 0\n",
    "        for i in range(max_attempts):\n",
    "            try:\n",
    "                return func(*args)\n",
    "            except Exception as e:\n",
    "                print(f\"error: {e}\")\n",
    "                retries += 1\n",
    "                wait = retry_delay * (backoff_factor**retries)\n",
    "                print(f\"Retry after waiting for {wait} seconds...\")\n",
    "                time.sleep(wait)"
   ]
  },
  {
   "cell_type": "code",
   "execution_count": 129,
   "id": "c9ca1739-b713-41f3-a669-ab6898028e65",
   "metadata": {},
   "outputs": [],
   "source": [
    "class DatabaseInterface:\n",
    "    def __init__(self, instance_connection_name, db_user, db_pass, db_name):\n",
    "        self.instance_connection_name = instance_connection_name\n",
    "        self.db_user = db_user\n",
    "        self.db_pass = db_pass\n",
    "        self.db_name = db_name\n",
    "        self.connector = Connector()\n",
    "        self.pool = self.create_pool()\n",
    "\n",
    "    def get_conn(self):\n",
    "        conn = self.connector.connect(\n",
    "            self.instance_connection_name,\n",
    "            \"pg8000\",\n",
    "            user=self.db_user,\n",
    "            password=self.db_pass,\n",
    "            db=self.db_name\n",
    "        )\n",
    "        return conn\n",
    "\n",
    "    def create_pool(self):\n",
    "        return create_engine(\n",
    "            \"postgresql+pg8000://\",\n",
    "            creator=self.get_conn,\n",
    "        )\n",
    "    \n",
    "    def run_query(self, query, fetch=True):\n",
    "        with self.pool.connect() as connection:\n",
    "            result = connection.execute(text(query))\n",
    "            connection.commit() \n",
    "            if fetch:\n",
    "                return result.fetchall()\n",
    "            else:\n",
    "                return None\n",
    "        \n",
    "    def create_table(self, table_name, columns):\n",
    "        \"\"\"\n",
    "        Creates a table with the given name and columns.\n",
    "        :param table_name: The name of the table\n",
    "        :param columns: A dictionary where keys are column names and values are SQL data types\n",
    "        \"\"\"\n",
    "        cols = ', '.join(f'{col} {dtype}' for col, dtype in columns.items())\n",
    "        create_table_query = f'CREATE TABLE {table_name} ({cols});'\n",
    "        self.run_query(create_table_query, fetch=False)\n",
    "\n",
    "    def drop_table(self, table_name):\n",
    "        \"\"\"\n",
    "        Drops the table with the given name.\n",
    "        :param table_name: The name of the table\n",
    "        \"\"\"\n",
    "        drop_table_query = f'DROP TABLE {table_name};'\n",
    "        print(self.run_query(drop_table_query, fetch=False))"
   ]
  },
  {
   "cell_type": "markdown",
   "id": "2b774c97-cbb9-4d44-a829-66e3f5192101",
   "metadata": {},
   "source": [
    "### 1 - Raw Data Processing"
   ]
  },
  {
   "cell_type": "code",
   "execution_count": 9,
   "id": "d1f73dd4-f086-4d8e-a4a8-a0d27bdce896",
   "metadata": {},
   "outputs": [
    {
     "data": {
      "text/html": [
       "<div>\n",
       "<style scoped>\n",
       "    .dataframe tbody tr th:only-of-type {\n",
       "        vertical-align: middle;\n",
       "    }\n",
       "\n",
       "    .dataframe tbody tr th {\n",
       "        vertical-align: top;\n",
       "    }\n",
       "\n",
       "    .dataframe thead th {\n",
       "        text-align: right;\n",
       "    }\n",
       "</style>\n",
       "<table border=\"1\" class=\"dataframe\">\n",
       "  <thead>\n",
       "    <tr style=\"text-align: right;\">\n",
       "      <th></th>\n",
       "      <th>product_id</th>\n",
       "      <th>product_name</th>\n",
       "      <th>description</th>\n",
       "      <th>list_price</th>\n",
       "    </tr>\n",
       "  </thead>\n",
       "  <tbody>\n",
       "    <tr>\n",
       "      <th>0</th>\n",
       "      <td>7e8697b5b7cdb5a40daf54caf1435cd5</td>\n",
       "      <td>Koplow Games Set of 2 D12 12-Sided Rock, Paper...</td>\n",
       "      <td>Rock, paper, scissors is a great way to resolv...</td>\n",
       "      <td>3.56</td>\n",
       "    </tr>\n",
       "    <tr>\n",
       "      <th>1</th>\n",
       "      <td>7de8b315b3cb91f3680eb5b88a20dcee</td>\n",
       "      <td>12\"-20\" Schwinn Training Wheels</td>\n",
       "      <td>Turn any small bicycle into an instrument for ...</td>\n",
       "      <td>28.17</td>\n",
       "    </tr>\n",
       "    <tr>\n",
       "      <th>2</th>\n",
       "      <td>fb9535c103d7d717f0414b2b111cfaaa</td>\n",
       "      <td>Bicycle Pinochle Jumbo Index Playing Cards - 1...</td>\n",
       "      <td>Purchase includes 1 blue deck and 1 red deck. ...</td>\n",
       "      <td>6.49</td>\n",
       "    </tr>\n",
       "  </tbody>\n",
       "</table>\n",
       "</div>"
      ],
      "text/plain": [
       "                         product_id  \\\n",
       "0  7e8697b5b7cdb5a40daf54caf1435cd5   \n",
       "1  7de8b315b3cb91f3680eb5b88a20dcee   \n",
       "2  fb9535c103d7d717f0414b2b111cfaaa   \n",
       "\n",
       "                                        product_name  \\\n",
       "0  Koplow Games Set of 2 D12 12-Sided Rock, Paper...   \n",
       "1                    12\"-20\" Schwinn Training Wheels   \n",
       "2  Bicycle Pinochle Jumbo Index Playing Cards - 1...   \n",
       "\n",
       "                                         description  list_price  \n",
       "0  Rock, paper, scissors is a great way to resolv...        3.56  \n",
       "1  Turn any small bicycle into an instrument for ...       28.17  \n",
       "2  Purchase includes 1 blue deck and 1 red deck. ...        6.49  "
      ]
     },
     "execution_count": 9,
     "metadata": {},
     "output_type": "execute_result"
    }
   ],
   "source": [
    "DATASET_URL = \"https://github.com/GoogleCloudPlatform/python-docs-samples/raw/main/cloud-sql/postgres/pgvector/data/retail_toy_dataset.csv\"\n",
    "\n",
    "df = pd.read_csv(DATASET_URL)\n",
    "df = df.loc[:, [\"product_id\", \"product_name\", \"description\", \"list_price\"]]\n",
    "df = df.dropna()\n",
    "\n",
    "df.head(3)"
   ]
  },
  {
   "cell_type": "code",
   "execution_count": 14,
   "id": "4e00b79e-b5a2-4291-824f-f3660b413692",
   "metadata": {},
   "outputs": [],
   "source": [
    "text_splitter = RecursiveCharacterTextSplitter(\n",
    "    separators=[\".\", \"\\n\"],\n",
    "    chunk_size=500,\n",
    "    chunk_overlap=0,\n",
    "    length_function=len,\n",
    ")\n",
    "\n",
    "data_processor = DataProcessor(df, text_splitter)\n",
    "chunked_data = data_processor.process()[:200]"
   ]
  },
  {
   "cell_type": "markdown",
   "id": "adff9735-58c1-41af-b493-6d7a3197df9b",
   "metadata": {},
   "source": [
    "### 2 - Computation of Embeddings"
   ]
  },
  {
   "cell_type": "code",
   "execution_count": 33,
   "id": "1ab736c4-4624-4b8b-b01d-de563c522ba3",
   "metadata": {},
   "outputs": [
    {
     "name": "stderr",
     "output_type": "stream",
     "text": [
      "100%|██████████| 40/40 [00:12<00:00,  3.29it/s]\n"
     ]
    }
   ],
   "source": [
    "batch_size = 5\n",
    "model = TextEmbeddingModel.from_pretrained(\"textembedding-gecko@001\")\n",
    "\n",
    "embedding_model = EmbeddingGenerator(model, batch_size)\n",
    "embedding_model.generate_embeddings(chunked_data)"
   ]
  },
  {
   "cell_type": "markdown",
   "id": "be251dfa-9381-4848-912e-d2d04ee1cd00",
   "metadata": {},
   "source": [
    "### 3 - Loading Data to DB"
   ]
  },
  {
   "cell_type": "code",
   "execution_count": 80,
   "id": "80c69a5a-6dc4-4b88-b5f6-3b7d983dd6a6",
   "metadata": {},
   "outputs": [
    {
     "name": "stdout",
     "output_type": "stream",
     "text": [
      "Your instance connection name is: steam-378309:europe-west3:legalm\n"
     ]
    }
   ],
   "source": [
    "project_id = \"steam-378309\"\n",
    "region = \"europe-west3\"\n",
    "instance_name = \"legalm\"\n",
    "\n",
    "DB_NAME = \"retail\"\n",
    "DB_USER = \"postgres\"\n",
    "DB_PASS = \"bestday13\"\n",
    "DB_PORT = \"5432\"\n",
    "\n",
    "INSTANCE_CONNECTION_NAME = f\"{project_id}:{region}:{instance_name}\"\n",
    "print(f\"Your instance connection name is: {INSTANCE_CONNECTION_NAME}\")"
   ]
  },
  {
   "cell_type": "code",
   "execution_count": 130,
   "id": "cf643270-d0b7-4252-80d8-6d1d2c1cf5bd",
   "metadata": {},
   "outputs": [],
   "source": [
    "db_interface = DatabaseInterface(INSTANCE_CONNECTION_NAME, DB_USER, DB_PASS, DB_NAME)"
   ]
  },
  {
   "cell_type": "code",
   "execution_count": 138,
   "id": "71100b2d-7c03-43e2-851d-287cbcbd0eff",
   "metadata": {},
   "outputs": [],
   "source": [
    "product_fields = {\"product_id\": \"VARCHAR(1024)\",\n",
    "                  \"product_name\": \"TEXT\",\n",
    "                  \"description\": \"TEXT\",\n",
    "                  \"list_price\": \"NUMERIC\"}\n",
    "\n",
    "product_embedding_fields = {\"product_id\": \"VARCHAR(1024)\",\n",
    "                            \"content\": \"TEXT\",\n",
    "                            \"embedding\": \"VECTOR(768)\"}"
   ]
  },
  {
   "cell_type": "code",
   "execution_count": 132,
   "id": "74dda6a2-7c98-4a42-b259-3d9aa6f11f7a",
   "metadata": {},
   "outputs": [
    {
     "name": "stdout",
     "output_type": "stream",
     "text": [
      "None\n"
     ]
    }
   ],
   "source": [
    "db_interface.drop_table(\"product_embeddings\")"
   ]
  },
  {
   "cell_type": "code",
   "execution_count": 115,
   "id": "fb41ca46-7e9a-46d1-9322-bb993347c667",
   "metadata": {},
   "outputs": [],
   "source": [
    "query = \"\"\"\n",
    "        SELECT tablename \n",
    "        FROM pg_catalog.pg_tables \n",
    "        WHERE schemaname != 'pg_catalog' \n",
    "        AND schemaname != 'information_schema';\n",
    "        \"\"\""
   ]
  },
  {
   "cell_type": "code",
   "execution_count": 139,
   "id": "35b8c660-ea7a-4071-aeb5-4032b3de4ec0",
   "metadata": {},
   "outputs": [],
   "source": [
    "db_interface.create_table(\"product_embeddings\", product_embedding_fields)"
   ]
  },
  {
   "cell_type": "code",
   "execution_count": 140,
   "id": "5245a8d2-9c92-4e97-a733-9ce2582b230b",
   "metadata": {},
   "outputs": [
    {
     "data": {
      "text/plain": [
       "[('products',), ('product_embeddings',)]"
      ]
     },
     "execution_count": 140,
     "metadata": {},
     "output_type": "execute_result"
    }
   ],
   "source": [
    "db_interface.run_query(query)"
   ]
  },
  {
   "cell_type": "code",
   "execution_count": null,
   "id": "97c892d5-b835-48c3-bf2f-ea09af553a41",
   "metadata": {},
   "outputs": [],
   "source": [
    "class DatabaseInterface:\n",
    "    def __init__(self, instance_connection_name, db_user, db_pass, db_name):\n",
    "        self.instance_connection_name = instance_connection_name\n",
    "        self.db_user = db_user\n",
    "        self.db_pass = db_pass\n",
    "        self.db_name = db_name\n",
    "        self.connector = Connector()\n",
    "        self.pool = self.create_pool()\n",
    "\n",
    "    def get_conn(self):\n",
    "        conn = self.connector.connect(\n",
    "            self.instance_connection_name,\n",
    "            \"pg8000\",\n",
    "            user=self.db_user,\n",
    "            password=self.db_pass,\n",
    "            db=self.db_name\n",
    "        )\n",
    "        return conn\n",
    "\n",
    "    def create_pool(self):\n",
    "        return create_engine(\n",
    "            \"postgresql+pg8000://\",\n",
    "            creator=self.get_conn,\n",
    "        )\n",
    "    \n",
    "    def run_query(self, query):\n",
    "        with self.pool.connect() as connection:\n",
    "            result = connection.execute(text(query))\n",
    "            return result.fetchall()\n",
    "        \n",
    "    def create_table(self, table_name, columns):\n",
    "        \"\"\"\n",
    "        Creates a table with the given name and columns.\n",
    "        :param table_name: The name of the table\n",
    "        :param columns: A dictionary where keys are column names and values are SQL data types\n",
    "        \"\"\"\n",
    "        cols = ', '.join(f'{col} {dtype}' for col, dtype in columns.items())\n",
    "        create_table_query = f'CREATE TABLE {table_name} ({cols});'\n",
    "        self.run_query(create_table_query)\n",
    "\n",
    "    def drop_table(self, table_name):\n",
    "        \"\"\"\n",
    "        Drops the table with the given name.\n",
    "        :param table_name: The name of the table\n",
    "        \"\"\"\n",
    "        drop_table_query = f'DROP TABLE {table_name};'\n",
    "        self.run_query(drop_table_query)"
   ]
  },
  {
   "cell_type": "code",
   "execution_count": null,
   "id": "b16368ee-a664-41ba-9a59-47966f44e977",
   "metadata": {},
   "outputs": [],
   "source": []
  },
  {
   "cell_type": "code",
   "execution_count": null,
   "id": "61ff6b0f-3bfb-4be8-8fc9-cd0ef677f469",
   "metadata": {},
   "outputs": [],
   "source": [
    "async def main():\n",
    "    # Initialize the objects\n",
    "    # text_splitter = RecursiveCharacterTextSplitter(...) \n",
    "    # data_processor = DataProcessor(df, text_splitter)\n",
    "    # embedding_model = EmbeddingGenerator(...)\n",
    "    db_connector = DatabaseConnector(...)\n",
    "    \n",
    "    # Process the data\n",
    "    # chunked_data = data_processor.process()\n",
    "    \n",
    "    # Generate embeddings\n",
    "    embedding_model.generate_embeddings(chunked_data)\n",
    "    \n",
    "    # Connect to the database\n",
    "    conn = await db_connector.connect()\n",
    "    \n",
    "    # Database Operations\n",
    "    db_operations = DatabaseOperations(conn)\n",
    "    await db_operations.create_table()\n",
    "    await db_operations.insert_data(chunked_data)\n",
    "    results = await db_operations.query_data(...)\n",
    "    \n",
    "    await conn.close()\n",
    "\n",
    "asyncio.run(main())\n"
   ]
  }
 ],
 "metadata": {
  "environment": {
   "kernel": "python3",
   "name": "pytorch-gpu.1-13.m110",
   "type": "gcloud",
   "uri": "gcr.io/deeplearning-platform-release/pytorch-gpu.1-13:m110"
  },
  "kernelspec": {
   "display_name": "Python 3",
   "language": "python",
   "name": "python3"
  },
  "language_info": {
   "codemirror_mode": {
    "name": "ipython",
    "version": 3
   },
   "file_extension": ".py",
   "mimetype": "text/x-python",
   "name": "python",
   "nbconvert_exporter": "python",
   "pygments_lexer": "ipython3",
   "version": "3.10.12"
  }
 },
 "nbformat": 4,
 "nbformat_minor": 5
}
