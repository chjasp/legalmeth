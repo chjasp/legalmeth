{
 "cells": [
  {
   "cell_type": "markdown",
   "id": "45b01c3f-ac87-4106-8aa6-15e27c59b71a",
   "metadata": {},
   "source": [
    "### 1 - EDA"
   ]
  },
  {
   "cell_type": "code",
   "execution_count": 1,
   "id": "f8870cb0-7eb2-4823-a40e-6f5554fb8965",
   "metadata": {},
   "outputs": [],
   "source": [
    "!pip -q install lxml"
   ]
  },
  {
   "cell_type": "code",
   "execution_count": 238,
   "id": "157edbe3-8ba1-45b8-a9d5-c1bad663ebc7",
   "metadata": {},
   "outputs": [],
   "source": [
    "from lxml import etree as ET\n",
    "import pandas as pd\n",
    "from tqdm import tqdm\n",
    "import matplotlib.pyplot as plt"
   ]
  },
  {
   "cell_type": "code",
   "execution_count": 239,
   "id": "53316bf3-e3dc-49f5-bb63-4f795904a24a",
   "metadata": {},
   "outputs": [],
   "source": [
    "path_to_file = \"../../pubmed23n1165.xml\""
   ]
  },
  {
   "cell_type": "code",
   "execution_count": 240,
   "id": "ce9688b1-081a-4e25-8804-9ab1fd89784f",
   "metadata": {},
   "outputs": [],
   "source": [
    "context = ET.iterparse(path_to_file, events=(\"start\", \"end\"))"
   ]
  },
  {
   "cell_type": "code",
   "execution_count": 241,
   "id": "8a1f12b0-eccb-40f4-b53e-72716871cce7",
   "metadata": {},
   "outputs": [
    {
     "name": "stdout",
     "output_type": "stream",
     "text": [
      "PMID: 36434552\n",
      "Title: Prognostic model for overall survival that includes the combination of platelet count and neutrophil-lymphocyte ratio within the first six weeks of sunitinib treatment for metastatic renal cell carcinoma.\n",
      "Abstract:\n",
      "  AbstractText: The association between the combination of platelet count and neutrophil-lymphocyte ratio (COP-NLR) at the time of adverse events during sunitinib treatment and prognosis is unclear, and prognostic models combining the prognostic factors of sunitinib have not been well studied. Thus, we developed a prognostic model that includes the COP-NLR to predict the prognosis of patients with metastatic renal cell carcinoma (mRCC) treated with sunitinib.\n",
      "  AbstractText: We performed a retrospective cohort study of 102 patients treated with sunitinib for mRCC between 2008 and 2020 in three hospitals associated with Showa University, Japan. The primary outcome was overall survival (OS). The collected data included baseline patient characteristics, adverse events, laboratory values, and COP-NLR scores within the first 6 weeks of sunitinib treatment. Prognostic factors of OS were analyzed using the Cox proportional hazards model. The integer score was derived from the beta-coefficient (β) of these factors and was divided into three groups. The survival curves were visualized using the Kaplan-Meier method and estimated using a log-rank test.\n",
      "  AbstractText: The median OS was 32.3 months. Multivariable analysis showed that the number of metastatic sites, Memorial Sloan Kettering Cancer Center risk group, number of metastases, non-hypertension, modified Glasgow Prognostic Score, and 6-week COP-NLR were significantly associated with OS. A higher 6-week COP-NLR was significantly associated with a shorter OS (p < 0.001). The β values of the five factors for OS were scored (non-hypertension, mGPS, and 6-week COP-NLR = 1 point; number of metastatic sites = 2 points; MSKCC risk group = 3 points) and patients divided into three groups (≤ 1, 2-3, and ≥ 4). The low-risk (≤ 1) group had significantly longer OS than the high-risk (≥ 4) group (median OS: 99.0 vs. 6.2 months, p < 0.001).\n",
      "  AbstractText: This study showed that the COP-NLR within the first 6 weeks of sunitinib treatment had a greater impact on OS than the COP-NLR at the start of sunitinib treatment. The developed prognostic model for OS, including the 6-week COP-NLR, will be useful in decision-making to continue sunitinib in the early treatment stage of patients with mRCC.\n",
      "\n",
      "-----\n",
      "-----\n",
      "\n",
      "PMID: 36434552\n",
      "Title: Prognostic model for overall survival that includes the combination of platelet count and neutrophil-lymphocyte ratio within the first six weeks of sunitinib treatment for metastatic renal cell carcinoma.\n",
      "Abstract:\n",
      "  AbstractText: The association between the combination of platelet count and neutrophil-lymphocyte ratio (COP-NLR) at the time of adverse events during sunitinib treatment and prognosis is unclear, and prognostic models combining the prognostic factors of sunitinib have not been well studied. Thus, we developed a prognostic model that includes the COP-NLR to predict the prognosis of patients with metastatic renal cell carcinoma (mRCC) treated with sunitinib.\n",
      "  AbstractText: We performed a retrospective cohort study of 102 patients treated with sunitinib for mRCC between 2008 and 2020 in three hospitals associated with Showa University, Japan. The primary outcome was overall survival (OS). The collected data included baseline patient characteristics, adverse events, laboratory values, and COP-NLR scores within the first 6 weeks of sunitinib treatment. Prognostic factors of OS were analyzed using the Cox proportional hazards model. The integer score was derived from the beta-coefficient (β) of these factors and was divided into three groups. The survival curves were visualized using the Kaplan-Meier method and estimated using a log-rank test.\n",
      "  AbstractText: The median OS was 32.3 months. Multivariable analysis showed that the number of metastatic sites, Memorial Sloan Kettering Cancer Center risk group, number of metastases, non-hypertension, modified Glasgow Prognostic Score, and 6-week COP-NLR were significantly associated with OS. A higher 6-week COP-NLR was significantly associated with a shorter OS (p < 0.001). The β values of the five factors for OS were scored (non-hypertension, mGPS, and 6-week COP-NLR = 1 point; number of metastatic sites = 2 points; MSKCC risk group = 3 points) and patients divided into three groups (≤ 1, 2-3, and ≥ 4). The low-risk (≤ 1) group had significantly longer OS than the high-risk (≥ 4) group (median OS: 99.0 vs. 6.2 months, p < 0.001).\n",
      "  AbstractText: This study showed that the COP-NLR within the first 6 weeks of sunitinib treatment had a greater impact on OS than the COP-NLR at the start of sunitinib treatment. The developed prognostic model for OS, including the 6-week COP-NLR, will be useful in decision-making to continue sunitinib in the early treatment stage of patients with mRCC.\n",
      "\n",
      "-----\n",
      "-----\n",
      "\n",
      "PMID: 36434553\n",
      "Title: Real-world data for precision public health of noncommunicable diseases: a scoping review.\n",
      "Abstract:\n",
      "  AbstractText: Global public health action to address noncommunicable diseases (NCDs) requires new approaches. NCDs are primarily prevented and managed in the community where there is little investment in digital health systems and analytics; this has created a data chasm and relatively silent burden of disease. The nascent but rapidly emerging area of precision public health offers exciting new opportunities to transform our approach to NCD prevention. Precision public health uses routinely collected real-world data on determinants of health (social, environmental, behavioural, biomedical and commercial) to inform precision decision-making, interventions and policy based on social position, equity and disease risk, and continuously monitors outcomes - the right intervention for the right population at the right time. This scoping review aims to identify global exemplars of precision public health and the data sources and methods of their aggregation/application to NCD prevention.\n",
      "  AbstractText: The Preferred Reporting Items for Systematic Reviews and Meta-Analyses extension for scoping reviews (PRISMA-ScR) was followed. Six databases were systematically searched for articles published until February 2021. Articles were included if they described digital aggregation of real-world data and 'traditional' data for applied community, population or public health management of NCDs. Real-world data was defined as routinely collected (1) Clinical, Medication and Family History (2) Claims/Billing (3) Mobile Health (4) Environmental (5) Social media (6) Molecular profiling (7) Patient-centred (e.g., personal health record). Results were analysed descriptively and mapped according to the three horizons framework for digital health transformation.\n",
      "  AbstractText: Six studies were included. Studies developed population health surveillance methods and tools using diverse real-world data (e.g., electronic health records and health insurance providers) and traditional data (e.g., Census and administrative databases) for precision surveillance of 28 NCDs. Population health analytics were applied consistently with descriptive, geospatial and temporal functions. Evidence of using surveillance tools to create precision public health models of care or improve policy and practice decisions was unclear.\n",
      "  AbstractText: Applications of real-world data and designed data to address NCDs are emerging with greater precision. Digital transformation of the public health sector must be accelerated to create an efficient and sustainable predict-prevent healthcare system.\n",
      "\n",
      "-----\n",
      "-----\n",
      "\n"
     ]
    }
   ],
   "source": [
    "pubmed_article_count = 0\n",
    "\n",
    "# Iterate through the XML elements\n",
    "for event, elem in context:\n",
    "    if elem.tag == \"PubmedArticle\":\n",
    "        pubmed_article_count += 1\n",
    "\n",
    "        # Extract information for the first 10 PubmedArticle elements\n",
    "        if pubmed_article_count <= 3:\n",
    "            pmid = elem.find(\".//PMID\")\n",
    "            title = elem.find(\".//ArticleTitle\")\n",
    "            abstract = elem.find(\".//Abstract\")\n",
    "\n",
    "            if pmid is not None:\n",
    "                print(\"PMID:\", pmid.text)\n",
    "            if title is not None:\n",
    "                print(\"Title:\", title.text)\n",
    "            if abstract is not None:\n",
    "                print(\"Abstract:\")\n",
    "                for abstract_text in abstract.findall(\"AbstractText\"):\n",
    "                    print(\"  AbstractText:\", abstract_text.text)\n",
    "            print(\"\\n-----\\n-----\\n\")\n",
    "        else:\n",
    "            break"
   ]
  },
  {
   "cell_type": "code",
   "execution_count": 242,
   "id": "7e445406-07c2-4a41-be62-07c5f27bb785",
   "metadata": {},
   "outputs": [
    {
     "name": "stderr",
     "output_type": "stream",
     "text": [
      "11750323it [00:16, 726863.78it/s]\n"
     ]
    }
   ],
   "source": [
    "data = []\n",
    "\n",
    "# Iterate through the XML elements\n",
    "for event, elem in tqdm(context):\n",
    "    if elem.tag == \"PubmedArticle\":\n",
    "        pubmed_article_count += 1\n",
    "\n",
    "        pmid = elem.find(\".//PMID\")\n",
    "        title = elem.find(\".//ArticleTitle\")\n",
    "        abstract = elem.find(\".//Abstract\")\n",
    "\n",
    "        if pmid is not None and title is not None and abstract is not None:\n",
    "            pmid_text = pmid.text\n",
    "            title_text = title.text\n",
    "            abstract_texts = [abstract_text.text if abstract_text.text is not None else \"\" for abstract_text in abstract.findall(\"AbstractText\")]\n",
    "            abstract_text_concat = \" \".join(abstract_texts)\n",
    "\n",
    "            # Append the data to the list\n",
    "            data.append((pmid_text, title_text, abstract_text_concat))\n",
    "\n",
    "    # Clear the element to save memory\n",
    "    elem.clear()\n",
    "\n",
    "# Create a DataFrame with the data\n",
    "df = pd.DataFrame(data, columns=[\"pmid\", \"title\", \"abstract\"])"
   ]
  },
  {
   "cell_type": "code",
   "execution_count": 243,
   "id": "00c37f8c-bb40-46d0-a1a7-71ef17c59fd2",
   "metadata": {},
   "outputs": [
    {
     "data": {
      "text/plain": [
       "45.977725982666016"
      ]
     },
     "execution_count": 243,
     "metadata": {},
     "output_type": "execute_result"
    }
   ],
   "source": [
    "df.memory_usage(deep=True).sum()/1024**2"
   ]
  },
  {
   "cell_type": "code",
   "execution_count": 244,
   "id": "7e4e45a0-d70f-4ad5-bbec-1beac55f9e63",
   "metadata": {},
   "outputs": [
    {
     "data": {
      "text/html": [
       "<div>\n",
       "<style scoped>\n",
       "    .dataframe tbody tr th:only-of-type {\n",
       "        vertical-align: middle;\n",
       "    }\n",
       "\n",
       "    .dataframe tbody tr th {\n",
       "        vertical-align: top;\n",
       "    }\n",
       "\n",
       "    .dataframe thead th {\n",
       "        text-align: right;\n",
       "    }\n",
       "</style>\n",
       "<table border=\"1\" class=\"dataframe\">\n",
       "  <thead>\n",
       "    <tr style=\"text-align: right;\">\n",
       "      <th></th>\n",
       "      <th>pmid</th>\n",
       "      <th>title</th>\n",
       "      <th>abstract</th>\n",
       "    </tr>\n",
       "  </thead>\n",
       "  <tbody>\n",
       "    <tr>\n",
       "      <th>0</th>\n",
       "      <td>36434554</td>\n",
       "      <td>TALASUR trial: a single arm phase II trial ass...</td>\n",
       "      <td>Urothelial carcinoma (UC) is the ninth most co...</td>\n",
       "    </tr>\n",
       "    <tr>\n",
       "      <th>1</th>\n",
       "      <td>36434555</td>\n",
       "      <td>HIV testing and associated factors among men (...</td>\n",
       "      <td>Despite significant efforts made to prevent hu...</td>\n",
       "    </tr>\n",
       "    <tr>\n",
       "      <th>2</th>\n",
       "      <td>36434557</td>\n",
       "      <td>HIV is still a major public health problem amo...</td>\n",
       "      <td>The burden of HIV is disproportionately higher...</td>\n",
       "    </tr>\n",
       "    <tr>\n",
       "      <th>3</th>\n",
       "      <td>36434558</td>\n",
       "      <td>Which style of duodenojejunostomy is better af...</td>\n",
       "      <td>Distal duodenal resections are sometimes neces...</td>\n",
       "    </tr>\n",
       "    <tr>\n",
       "      <th>4</th>\n",
       "      <td>36434556</td>\n",
       "      <td>Artificial intelligence to guide precision ant...</td>\n",
       "      <td>Vast amounts of rapidly accumulating biologica...</td>\n",
       "    </tr>\n",
       "  </tbody>\n",
       "</table>\n",
       "</div>"
      ],
      "text/plain": [
       "       pmid                                              title  \\\n",
       "0  36434554  TALASUR trial: a single arm phase II trial ass...   \n",
       "1  36434555  HIV testing and associated factors among men (...   \n",
       "2  36434557  HIV is still a major public health problem amo...   \n",
       "3  36434558  Which style of duodenojejunostomy is better af...   \n",
       "4  36434556  Artificial intelligence to guide precision ant...   \n",
       "\n",
       "                                            abstract  \n",
       "0  Urothelial carcinoma (UC) is the ninth most co...  \n",
       "1  Despite significant efforts made to prevent hu...  \n",
       "2  The burden of HIV is disproportionately higher...  \n",
       "3  Distal duodenal resections are sometimes neces...  \n",
       "4  Vast amounts of rapidly accumulating biologica...  "
      ]
     },
     "execution_count": 244,
     "metadata": {},
     "output_type": "execute_result"
    }
   ],
   "source": [
    "df.head()"
   ]
  },
  {
   "cell_type": "code",
   "execution_count": 245,
   "id": "baae25a6-e76b-46a0-bf68-1e7dab04bd5c",
   "metadata": {},
   "outputs": [
    {
     "data": {
      "text/plain": [
       "pmid               0\n",
       "title              0\n",
       "abstract           0\n",
       "abstract_length    0\n",
       "dtype: int64"
      ]
     },
     "execution_count": 245,
     "metadata": {},
     "output_type": "execute_result"
    }
   ],
   "source": [
    "df = df.dropna()\n",
    "df[\"abstract_length\"] = df[\"abstract\"].apply(len)\n",
    "\n",
    "df.isna().sum()"
   ]
  },
  {
   "cell_type": "code",
   "execution_count": 246,
   "id": "2338e270-2f78-4472-bc6c-e0f22fda6db8",
   "metadata": {},
   "outputs": [
    {
     "data": {
      "text/plain": [
       "(25401, 4)"
      ]
     },
     "execution_count": 246,
     "metadata": {},
     "output_type": "execute_result"
    }
   ],
   "source": [
    "df.shape"
   ]
  },
  {
   "cell_type": "code",
   "execution_count": 247,
   "id": "0dae0b06-ada8-4bca-a478-456ba1e2c791",
   "metadata": {},
   "outputs": [
    {
     "data": {
      "text/plain": [
       "(25401, 4)"
      ]
     },
     "execution_count": 247,
     "metadata": {},
     "output_type": "execute_result"
    }
   ],
   "source": [
    "df['pmid'] = df['pmid'].astype(int)\n",
    "df.shape"
   ]
  },
  {
   "cell_type": "code",
   "execution_count": 248,
   "id": "a14c006c-5790-475c-a3f9-2e0da51f09d4",
   "metadata": {},
   "outputs": [
    {
     "data": {
      "text/plain": [
       "(25401, 4)"
      ]
     },
     "execution_count": 248,
     "metadata": {},
     "output_type": "execute_result"
    }
   ],
   "source": [
    "clean_df = df[df[\"abstract_length\"] > 1000]\n",
    "df.shape"
   ]
  },
  {
   "cell_type": "code",
   "execution_count": 249,
   "id": "192abbb2-9825-4722-be81-685590685d4f",
   "metadata": {},
   "outputs": [
    {
     "data": {
      "image/png": "[encoded data removed]",
      "text/plain": [
       "<Figure size 640x480 with 1 Axes>"
      ]
     },
     "metadata": {},
     "output_type": "display_data"
    }
   ],
   "source": [
    "clean_df[\"abstract_length\"].hist(bins=20)\n",
    "plt.show()"
   ]
  },
  {
   "cell_type": "markdown",
   "id": "50db61e0-e9f3-428f-85ff-f96b9d44b955",
   "metadata": {
    "tags": []
   },
   "source": [
    "### 2 - Load data into Postgres"
   ]
  },
  {
   "cell_type": "code",
   "execution_count": 250,
   "id": "318c7d56-7b14-46dc-b69e-c7c15aae0e3d",
   "metadata": {},
   "outputs": [],
   "source": [
    "# Data processing\n",
    "from langchain.text_splitter import RecursiveCharacterTextSplitter\n",
    "import pandas as pd\n",
    "import os\n",
    "\n",
    "# DB connection\n",
    "from google.cloud.sql.connector import Connector\n",
    "import sqlalchemy\n",
    "from sqlalchemy import create_engine, text\n",
    "\n",
    "# Embeddings\n",
    "from vertexai.language_models import TextEmbeddingModel\n",
    "\n",
    "# Utils\n",
    "import time\n",
    "from tqdm import tqdm\n",
    "import numpy as np"
   ]
  },
  {
   "cell_type": "code",
   "execution_count": 251,
   "id": "79dcb3f3-f4a2-4d43-9bd7-1901bf54ba6c",
   "metadata": {},
   "outputs": [],
   "source": [
    "class DataProcessor:\n",
    "    def __init__(self, df, text_splitter):\n",
    "        self.df = df\n",
    "        self.text_splitter = text_splitter\n",
    "        self.chunked = []\n",
    "        \n",
    "    def process(self):\n",
    "        for index, row in self.df.iterrows():\n",
    "            product_id = row[\"product_id\"]\n",
    "            desc = row[\"description\"]\n",
    "            splits = self.text_splitter.create_documents([desc])\n",
    "            for s in splits:\n",
    "                r = {\"product_id\": product_id, \"content\": s.page_content}\n",
    "                self.chunked.append(r)\n",
    "        return self.chunked"
   ]
  },
  {
   "cell_type": "code",
   "execution_count": 252,
   "id": "ac6c6e7a-e8c2-47bb-a21d-d305bfa7ae52",
   "metadata": {},
   "outputs": [],
   "source": [
    "class EmbeddingGenerator:\n",
    "    def __init__(self, model, batch_size):\n",
    "        self.model = model\n",
    "        self.batch_size = batch_size\n",
    "        \n",
    "    def generate_embeddings(self, chunked):\n",
    "        for i in tqdm(range(0, len(chunked), self.batch_size)):\n",
    "            request_data = [c[\"content\"] for c in chunked[i: i + self.batch_size]]\n",
    "            response = self.retry_with_backoff(self.model.get_embeddings, request_data)\n",
    "            for c, e in zip(chunked[i: i + self.batch_size], response):\n",
    "                c[\"embedding\"] = e.values\n",
    "                \n",
    "    def retry_with_backoff(self, func, *args, retry_delay=5, backoff_factor=2):\n",
    "        max_attempts = 10\n",
    "        retries = 0\n",
    "        for i in range(max_attempts):\n",
    "            try:\n",
    "                return func(*args)\n",
    "            except Exception as e:\n",
    "                print(f\"error: {e}\")\n",
    "                retries += 1\n",
    "                wait = retry_delay * (backoff_factor**retries)\n",
    "                print(f\"Retry after waiting for {wait} seconds...\")\n",
    "                time.sleep(wait)"
   ]
  },
  {
   "cell_type": "code",
   "execution_count": 253,
   "id": "81979c21-b2f2-4c80-b049-7fbe9e63423d",
   "metadata": {},
   "outputs": [],
   "source": [
    "class DatabaseInterface:\n",
    "    def __init__(self, instance_connection_name, db_user, db_pass, db_name):\n",
    "        self.instance_connection_name = instance_connection_name\n",
    "        self.db_user = db_user\n",
    "        self.db_pass = db_pass\n",
    "        self.db_name = db_name\n",
    "        self.connector = Connector()\n",
    "        self.pool = self.create_pool()\n",
    "\n",
    "    def get_conn(self):\n",
    "        conn = self.connector.connect(\n",
    "            self.instance_connection_name,\n",
    "            \"pg8000\",\n",
    "            user=self.db_user,\n",
    "            password=self.db_pass,\n",
    "            db=self.db_name\n",
    "        )\n",
    "        return conn\n",
    "\n",
    "    def create_pool(self):\n",
    "        return create_engine(\n",
    "            \"postgresql+pg8000://\",\n",
    "            creator=self.get_conn,\n",
    "        )\n",
    "    \n",
    "    def run_query(self, query, fetch=True):\n",
    "        with self.pool.connect() as connection:\n",
    "            result = connection.execute(text(query))\n",
    "            connection.commit() \n",
    "            if fetch:\n",
    "                return result.fetchall()\n",
    "            else:\n",
    "                return None\n",
    "            \n",
    "    def insert_data_from_dataframe(self, dataframe, table_name):\n",
    "        dataframe.to_sql(\n",
    "            table_name,\n",
    "            self.pool,\n",
    "            if_exists='replace',\n",
    "            index=False,\n",
    "            method='multi'\n",
    "        )\n",
    "        \n",
    "    def create_table(self, table_name, columns):\n",
    "        \"\"\"\n",
    "        Creates a table with the given name and columns.\n",
    "        :param table_name: The name of the table\n",
    "        :param columns: A dictionary where keys are column names and values are SQL data types\n",
    "        \"\"\"\n",
    "        cols = ', '.join(f'{col} {dtype}' for col, dtype in columns.items())\n",
    "        create_table_query = f'CREATE TABLE {table_name} ({cols});'\n",
    "        self.run_query(create_table_query, fetch=False)\n",
    "\n",
    "    def drop_table(self, table_name):\n",
    "        \"\"\"\n",
    "        Drops the table with the given name.\n",
    "        :param table_name: The name of the table\n",
    "        \"\"\"\n",
    "        drop_table_query = f'DROP TABLE {table_name};'\n",
    "        print(self.run_query(drop_table_query, fetch=False))"
   ]
  },
  {
   "cell_type": "code",
   "execution_count": 254,
   "id": "ba1bd39d-1c4d-47fd-992e-dd4eaba18af5",
   "metadata": {},
   "outputs": [
    {
     "name": "stdout",
     "output_type": "stream",
     "text": [
      "Your instance connection name is: steam-378309:europe-west3:legalm\n"
     ]
    }
   ],
   "source": [
    "project_id = \"steam-378309\"\n",
    "region = \"europe-west3\"\n",
    "instance_name = \"legalm\"\n",
    "\n",
    "DB_NAME = \"pubmed\"\n",
    "DB_USER = \"postgres\"\n",
    "DB_PASS = \"bestday13\"\n",
    "DB_PORT = \"5432\"\n",
    "\n",
    "INSTANCE_CONNECTION_NAME = f\"{project_id}:{region}:{instance_name}\"\n",
    "print(f\"Your instance connection name is: {INSTANCE_CONNECTION_NAME}\")"
   ]
  },
  {
   "cell_type": "code",
   "execution_count": 255,
   "id": "daa66588-758d-41c4-abae-0348bb616bd5",
   "metadata": {},
   "outputs": [],
   "source": [
    "db_interface = DatabaseInterface(INSTANCE_CONNECTION_NAME, DB_USER, DB_PASS, DB_NAME)"
   ]
  },
  {
   "cell_type": "code",
   "execution_count": 256,
   "id": "28e0e052-d1f6-4c62-a610-90ecd79d5ac6",
   "metadata": {},
   "outputs": [],
   "source": [
    "db_interface.run_query(\"CREATE EXTENSION IF NOT EXISTS vector\", fetch=False)"
   ]
  },
  {
   "cell_type": "code",
   "execution_count": 257,
   "id": "12f8e410-4a9e-428d-a4fd-3dbefb0c2795",
   "metadata": {},
   "outputs": [],
   "source": [
    "pm_abstracts_fields = {\"pmid\": \"BIGINT\",\n",
    "                       \"title\": \"TEXT\",\n",
    "                       \"abstract\": \"TEXT\"}\n",
    "\n",
    "pm_abstracts_embeddings_fields = {\"pmid\": \"BIGINT\",\n",
    "                                 \"title\": \"TEXT\",\n",
    "                                 \"abstract\": \"TEXT\",\n",
    "                                 \"embedding\": \"VECTOR(768)\"}"
   ]
  },
  {
   "cell_type": "code",
   "execution_count": 258,
   "id": "4362cb6f-58cb-4393-acdb-7ca76c64c89e",
   "metadata": {},
   "outputs": [],
   "source": [
    "table_query = \"\"\"\n",
    "        SELECT tablename \n",
    "        FROM pg_catalog.pg_tables \n",
    "        WHERE schemaname != 'pg_catalog' \n",
    "        AND schemaname != 'information_schema';\n",
    "        \"\"\""
   ]
  },
  {
   "cell_type": "code",
   "execution_count": 262,
   "id": "68e198de-874e-4517-923e-c749d8bff6f8",
   "metadata": {},
   "outputs": [
    {
     "data": {
      "text/plain": [
       "[('pm_abstracts_embeddings',), ('pm_abstracts',)]"
      ]
     },
     "execution_count": 262,
     "metadata": {},
     "output_type": "execute_result"
    }
   ],
   "source": [
    "db_interface.run_query(table_query)"
   ]
  },
  {
   "cell_type": "code",
   "execution_count": null,
   "id": "c7c866d9-21f8-485b-8182-86c23934f582",
   "metadata": {},
   "outputs": [],
   "source": [
    "db_interface.create_table(\"pm_abstracts\", pm_abstracts_fields)\n",
    "db_interface.create_table(\"pm_abstracts_embeddings\", pm_abstracts_embeddings_fields)"
   ]
  },
  {
   "cell_type": "code",
   "execution_count": 264,
   "id": "43b8f072-8831-4548-9cca-12ea65ca4529",
   "metadata": {},
   "outputs": [],
   "source": [
    "chunk_size = 100  # Adjust based on your needs\n",
    "for start in range(0, len(pg_df), chunk_size):\n",
    "    end = start + chunk_size\n",
    "    subset = pg_df.iloc[start:end]\n",
    "    db_interface.insert_data_from_dataframe(subset, \"pm_abstracts\")"
   ]
  },
  {
   "cell_type": "code",
   "execution_count": 265,
   "id": "42a78015-a136-487e-9aab-9e444c34941e",
   "metadata": {},
   "outputs": [
    {
     "data": {
      "text/plain": [
       "[(36464701, 'Identification of DNA methylation signatures for hepatocellular carcinoma detection and microvascular invasion prediction.', \"Preoperative evaluation of microvascular invasion (MVI) in patients with hepatocellular carcinoma (HCC) is important for surgical strategy determinat ... (1190 characters truncated) ... y, we identified a cfDNA methylation signature for HCC detection and a tissue DNA methylation signature for MVI status prediction with high accuracy.\"),\n",
       " (36464702, 'Prognostic value of microRNAs in patients with small cell lung cancer: a meta-analysis.', 'An increasing number of studies have shown that microRNAs play an important role in the occurrence and development of small cell lung cancer, which m ... (1484 characters truncated) ... umber of CRD42022334363. The relevant registration information can be obtained from the website https://www.crd.york.ac.uk/prospero/#searchadvanced .'),\n",
       " (36464703, 'The amino acid and carnitine concentration changes in bronchoalveolar lavage fluid from lung cancer patients.', 'To screen out potential biomarkers by analyzing fundamental nutrients in the bronchoalveolar lavage fluid (BALF) before confirming the lung cancer. I ... (704 characters truncated) ... trend continuously through the non-cancer stage, grades I & II stage and grades III & IV stage. Those two potential biomarkers have been identified. '),\n",
       " (36464708, 'A case report involving suppressed nuclear receptor transcription factors 4a1 and Stevens-Johnson syndrome induced by a single dose of pembrolizumab and successfully treated with early steroid administration, resulting in complete remission of stage III lung cancer.', 'Immunotherapy with immune checkpoint inhibitors is associated with immune-related adverse events (irAEs). A positive correlation between treatment ef ... (2160 characters truncated) ... g Nr4a expression-related indices as the possible clinical covariates and may serve as a milestone for appropriate future chemotherapy interventions.'),\n",
       " (36464720, 'Progress and current trends in the electrochemical determination of phosphate ions for environmental and biological monitoring applications.', 'The determination of phosphate ions in biological testing is critical for environmental safety. A reliable and accurate method is required to measure ... (951 characters truncated) ...  addresses the current challenges that phosphate sensing technology faces and illustrates future opportunities for more reliable phosphate detection.'),\n",
       " (36464709, 'Influence of ABO blood group on susceptibility to different pathological types of lung cancer: a retrospective study.', 'Current research has shown a link between ABO blood group and many diseases. The purpose of this study aimed to investigate the influence of the ABO  ... (1553 characters truncated) ... may be correlated with the occurrence of lung adenocarcinoma in Jiangxi province, but not with lung squamous cell carcinoma and small cell carcinoma.'),\n",
       " (36464710, 'Cerebellar Degeneration Impairs Strategy Discovery but Not Strategy Recall.', 'The cerebellum is recognized to play a critical role in the automatic and implicit process by which movement errors are used to keep the sensorimotor ... (1040 characters truncated) ... butions of the cerebellum to sensorimotor learning, highlighting one way in which this subcortical structure facilitates volitional action selection.'),\n",
       " (36464711, \"Women's views on moderate and low alcohol consumption: stages of the subjective transition from pregnancy to postpartum.\", \"Alcohol consumption during pregnancy and breastfeeding is associated with a risk for the child's healthy development. Nevertheless, about 16 to 25% o ... (1934 characters truncated) ... ng services should be therefore offered to women before or in the stage around conception and be continued until the end of the breastfeeding period.\"),\n",
       " (36464713, 'Kavain ablates the radio-resistance of IDH-wildtype glioblastoma by targeting LITAF/NF-κB pathway.', \"Glioblastoma multiforma (GBM) is the most malignant intrinsic tumor of the central nervous system\\xa0(CNS), with high morbidity of 3.19/100,000 per y ... (1358 characters truncated) ... expels LITAF from the nucleus. Therefore, we consider that kavain may be a potential candidate to develop an\\xa0irradiation therapy adjuvant for GBM.\"),\n",
       " (36464737, 'An inflection point in global public health.', 'Population health needs to pivot toward the primordial prevention of global chronic diseases, most specifically the disease cascade that runs from ma ... (816 characters truncated) ... economic development can be illuminated by the efforts of four scientists, Francis Bacon at the dawn of the seventeenth century, James Lind in the 18'),\n",
       " (36464714, 'Comparison of oocyte vitrification using a semi-automated or a manual closed system in human siblings: survival and transcriptomic analyses.', 'Indications of oocyte vitrification increased substantially over the last decades for clinical and ethical reasons. A semi-automated vitrification sy ... (1201 characters truncated) ... on method. Concerning oocyte vitrification itself, no tight common transcriptomic signature associated has been observed across studies. NCT03570073.'),\n",
       " (36464715, 'Graphlets in comparison of Petri net-based models of biological systems.', 'Capability to compare biological models is a crucial step needed in an analysis of complex organisms. Petri nets as a popular modelling technique, ne ... (980 characters truncated) ...  models represented in Petri nets. Our results confirmed the usefulness of graphlets and GDDA in Petri net comparison and discovered its limitations.'),\n",
       " (36464716, 'Long-term changes in cortical representation through perceptual learning of spectrally degraded speech.', 'Listeners can adapt to acoustically degraded speech with perceptual training. The learning processes for long periods underlies the rehabilitation of ... (1462 characters truncated) ... insights into cortical mechanisms underlying adaptive processes in difficult listening situations and long-term rehabilitation of auditory disorders.'),\n",
       " (36464717, 'Association between heme oxygenase one and sepsis development in patients with moderate-to-critical COVID-19: a single-center, retrospective observational study.', 'Heme oxygenase one (HO-1) is considered a poor prognostic factor for survival in patients with severe-to-critical coronavirus disease (COVID-19), but ... (2638 characters truncated) ... COVID-19 mortality. We suppose that HO-1 may have protective effect in early sepsis, but further clinical multicenter prospective studies are needed.'),\n",
       " (36464721, 'Taurine metabolism is modulated in Vibrio-infected Penaeus vannamei to shape shrimp antibacterial response and survival.', 'Numerous microorganisms are found in aquaculture ponds, including several pathogenic bacteria. Infection of cultured animals by these pathogens resul ... (1314 characters truncated) ... taurine metabolism could be modulated by exogenous supplementation to improve crustacean immune response against pathogenic microbes. Video Abstract.'),\n",
       " (36464722, 'Interaction of sex and diabetes on the association between hemoglobin glycation index, hemoglobin A1c and serum uric acid.', 'Hemoglobin glycation index (HGI), which is calculated by blood glucose and hemoglobin A1c(HbA1c), reflects the individual discrepancy in HbA1c. This  ... (1664 characters truncated) ... itively correlated with HbA1c and HGI in women without diabetes. Glycemic control may help to reduce the risk of hyperuricemia in non-diabetes women.'),\n",
       " (36464724, 'Distribution Characteristics and Influencing Factors of Bio-elements in the Human Hair of Uyghur Communities in an Oasis Area of Xinjiang, China.', \"Located in central Asia, Xinjiang is characterized as a diverse environment in China, consisting of vast deserts, dotted oases, and high mountains. D ... (2036 characters truncated) ... c groups and regions can be attributed to the differences in lifestyles, cultural customs, dietary habits, and internal and external exposure routes.\"),\n",
       " (36464725, 'Excessive Lysosomal Stress Response and Consequently Impaired Autophagy Contribute to Fluoride-Induced Developmental Neurotoxicity.', 'Fluoride can cause developmental neurotoxicity; however, the precise mechanism has yet to be determined. We aimed to explore the possible role and me ... (1168 characters truncated) ... osis. Thus, the lysosomal stress response may be a promising target for the prevention and treatment of fluoride-induced developmental neurotoxicity.'),\n",
       " (36464726, 'Angiotensin Type 2 Receptor Pharmacological Agonist Relieves Neurocognitive Deficits via Reducing Neuroinflammation and Microglial Engulfment of Dendritic Spines.', 'Mechanically ventilated patients suffering\\xa0critical illness are at high risk of developing neurocognitive impairments. Angiotensin type 2 receptor ... (1801 characters truncated) ... e subjected to LPS/MV, via mechanisms that involve reactive microglia and abnormal synaptic plasticity in NOX2-derived ROS and the PKCδ-NFκB pathway.'),\n",
       " (36464727, 'A decellularized and sterilized human meniscus allograft for off-the-shelf meniscus replacement.', 'Meniscus tears are one of the most frequent orthopedic knee injuries, which are currently often treated performing meniscectomy. Clinical concerns co ... (1160 characters truncated) ... e ease at which human meniscus tissue can be efficiently decellularized, while maintaining its native properties, paves the way towards clinical use.'),\n",
       " (36464728, 'A critical appraisal of delirium clinical practice guidelines relevant to the care of older adults in the emergency department with a synthesis of recommendations: an umbrella review protocol.', 'Up to 35% of older adults present to the emergency department (ED) with delirium or develop the condition during their ED stay. Delirium associated w ... (1359 characters truncated) ...  most relevant to older ED patients. This study has been registered in the Open Science Framework registries: https://doi.org/10.17605/OSF.IO/TG7S6 .'),\n",
       " (36464731, 'Cultivation-independent genomes greatly expand taxonomic-profiling capabilities of mOTUs across various environments.', 'Taxonomic profiling is a fundamental task in microbiome research that aims to detect and quantify the relative abundance of microorganisms in biologi ... (2337 characters truncated) ... with >11,000 precomputed profiles for publicly available metagenomes and is freely available at: https://github.com/motu-tool/mOTUs . Video Abstract.'),\n",
       " (36464733, 'Underestimating microplastics? Quantification of the recovery rate of microplastic particles including sampling, sample preparation, subsampling, and detection using µ-Ramanspectroscopy.', 'This study is one of the first to investigate the recovery rate of high- and low-density microplastic particles (polyvinyl chloride and polypropylene ... (966 characters truncated) ... stewater treatment plants are underestimated, particularly because the recovery rate of small microplastic particles\\u2009<\\u200950\\xa0µm is only 9%.'),\n",
       " (36464736, 'Impact evaluation of long-lasting insecticidal nets distribution campaign on malaria cases reported at outpatient departments across all the regions in Ghana.', 'Malaria remains the biggest public health challenge globally, and Ghana is among the 15 highest burden malaria countries in the world, with 2% of glo ... (1558 characters truncated) ... s among OPDs across health facilities in Ghana. The study recommends the biannual mass distribution campaigns especially in the high-density regions.'),\n",
       " (36464739, 'The impact of outcome expectancy on therapy outcome in adolescents with borderline personality disorder.', \"Outcome expectancy has been found to be a significant predictor of psychotherapy outcome. However, given that severity, chronicity and comorbidity ar ... (1513 characters truncated) ... isk factors associated with lower expectancy. Low outcome expectancy should be addressed in early psychotherapy to improve the therapeutical process.\"),\n",
       " (36464740, 'Generation of humanized LDHC knock-in mice as a tool to assess human LDHC-targeting contraceptive drugs.', 'Lactate dehydrogenase C (LDHC) is specifically expressed in male germ cells and plays critical roles in glycolysis. Glycolysis is required to supply  ... (1017 characters truncated) ... ce can be a good model to assess hLDHC inhibitors for preclinical contraceptive studies. This article is protected by copyright. All rights reserved.'),\n",
       " (36464741, 'Predicting factors for breast cancer screening in Middle Eastern women based on health belief model: a systematic review.', 'Breast cancer screening can reduce mortality and improve the quality of life in affected women. The present study aimed to determine the predictive f ... (1056 characters truncated) ... eakness of many HBM constructs, it is recommended that special attention be given to all HBM constructs in implementing HBM-based education programs.'),\n",
       " (36464743, \"Identifying the leading retailer-based food waste causes in different perishable fast-moving consumer goods' categories: application of the F-LBWA methodology.\", \"Waste in fast-moving consumer goods (FMCGs) is a tremendous economic and ethical issue for retailers and the rest of society. Due to methodological w ... (1115 characters truncated) ...  Turkey, the applicable insights of this research can also serve all supply chain members and policymakers to prevent food waste through partnership.\"),\n",
       " (36464757, 'Mohs micrographic surgery for periocular skin cancer: a single-institution experience.', 'Periocular skin cancers require both effective and tissue-sparing treatment to minimize morbidity and preserve eyelid and lacrimal system function. W ... (986 characters truncated) ... ure rates for periocular cutaneous tumors. For basal cell carcinoma, previously treated lesions were associated with additional recurrence after MMS.'),\n",
       " (36464745, 'Nitrate pollution and its solutions with special emphasis on electrochemical reduction removal.', 'Nitrate pollution has become a serious environmental concern all over the world including in China due to the mismanagement of water resources and hu ... (1257 characters truncated) ... rategies, and essential principles for understanding the mechanism of electrochemical reduction removal and controlling the products of the reaction.'),\n",
       " (36464747, 'Bibliometric analysis of publications on enthesitis in spondyloarthritis in 2012-2021 based on web of science core collection databases.', 'Enthesitis, a characteristic of spondyloarthritis, has been paid considerable attention by researchers, and numerous enthesitis-related studies have  ... (1456 characters truncated) ... tanding the research direction and subsequent management of enthesitis, and helped researchers extract hidden valuable information for further study.'),\n",
       " (36464748, 'Repurposing artemisinins as neuroprotective agents: a focus on the PI3k/Akt signalling pathway.', \"Artemisinin and its derivatives, since their discovery by professor Tu Youyou in the early 1970s, have been the bedrock for the management of malaria ... (1404 characters truncated) ... ition of oxidative stress, neuroinflammation, and apoptosis. This paper illustrates that artemisinins could be repurposed as a neuroprotective agent.\"),\n",
       " (36464749, 'DOK7 Promotes NMJ Regeneration After Nerve Injury.', 'Motor function recovery from injury requires the regeneration of not only muscle fibers, but also the neuromuscular junction-the synapse between moto ... (860 characters truncated) ... ially new therapeutic strategy for functional recovery after muscle and nerve injury, i.e., promoting NMJ regeneration by increasing agrin signaling.'),\n",
       " (36464806, \"Whole-exome rare-variant analysis of Alzheimer's disease and related biomarker traits.\", \"Despite increasing evidence of a role of rare genetic variation in the risk of Alzheimer's disease (AD), limited attention has been paid to its contr ... (842 characters truncated) ... riation in the distinct pathophysiological processes culminating in AD, which may lead to identification of novel therapeutic and diagnostic targets.\"),\n",
       " (36464750, 'Subjective cancer-related cognitive impairments and salience network connectivity in breast cancer survivors.', \"Little is known about the neural basis of subjective cancer-related cognitive changes. The purpose of this study was to explore salience network conn ... (1219 characters truncated) ... tive changes. Subjective cancer-related cognitive changes are common following treatment and associated with objective changes in brain connectivity.\"),\n",
       " (36464751, 'Enantioselective resolution of (R,S)-DMPM to prepare (R)-DMPM by an adsorbed-covalent crosslinked esterase PAE07 from Pseudochrobactrum asaccharolyticum WZZ003.', '(R)-N-(2,6-dimethylphenyl) aminopropionic acid methyl ester ((R)-DMPM) is an important chiral intermediate of the fungicide N-(2,6-Dimethylphenyl)-N- ... (1097 characters truncated) ... hese results indicated that the D3520-immobilized esterase PAE07 had great potential for enzymatic resolution of (R,S)-DMPM to prepare (R)-Metalaxyl.'),\n",
       " (36464752, 'MUTYH and KLF6 gene expression fluctuations in tumor tissue and tumor margins tissues of colorectal cancer.', 'Colorectal cancer (CRC) is one of the most important cancers in the world, and its prevalence varies depending on the geographical area. Genetically, ... (1193 characters truncated) ... UTYH genes in the study population has a significant relationship with colorectal cancer and can be considered as tumor marker in diagnostic purpose.'),\n",
       " (36464755, 'Data-driven development of the nationwide hip fracture registry in the Netherlands.', 'Additional variables for a nationwide hip fracture registry must be carefully chosen to prevent unnecessary registry load. A registry pilot in seven  ... (1720 characters truncated) ... lopment of quality indicators. Incorporating these variables in the DHFA dataset may contribute to better and clinically relevant quality indicators.'),\n",
       " (36464756, 'The diagnostic performance in clinically significant prostate cancer with PI-RADS version 2.1: simplified bpMRI versus standard mpMRI.', 'To compare the diagnostic performance for the detection of clinically significant prostate cancer (csPCa) between bpMRI with only axial T2WI (simplif ... (1629 characters truncated) ... RI. Our data justify using mpMRI outperforms simplified bpMRI for prostate cancer screening and imply simplified bpMRI as a potential screening tool.'),\n",
       " (36464758, 'Pathogenic/likely pathogenic copy number variations and regions of homozygosity in fetal central nervous system malformations.', 'To explore pathogenic/likely pathogenic copy number variations (P/LP CNVs) and regions of homozygosity (ROHs) in fetal central nervous system (CNS) m ... (1232 characters truncated) ... gnificantly among the different phenotypes of CNS malformations, although simple CNS abnormalities may also be associated with genetic abnormalities.'),\n",
       " (36464759, 'Lipidic extract of whole tomato reduces hyperplasia, oxidative stress and inflammation on testosterone-induced BPH in obese rats.', 'Tomato is an important source of lycopene, a carotenoid that has been emerging as a natural preventive agent for prostate disease. Moreover, tomato c ... (1322 characters truncated) ... ial effect to improve prostate function. Whole tomato lipid extract could serve as sole therapy or as an adjunct to pharmacological treatment for PH.'),\n",
       " (36464760, 'TGFB1 mRNA expression and frequency of the\\u2009+\\u2009869T>C and\\u2009+\\u2009915G>C genetic variants: impact on risk for systemic sclerosis.', 'Systemic Sclerosis (SSc) is a chronic autoimmune disease characterized by immune disorder, microvascular damage, and fibrosis. TGFB1 gene encodes for ... (1375 characters truncated) ... 9915G>C variants could be SSc risk factors for patients from Southern Mexico, and these genetic variants could induce lower mRNA expression of TGFB1.'),\n",
       " (36464761, 'Automated electrocardiogram signal quality assessment based on Fourier analysis and template matching.', \"We\\xa0developed and tested a novel template matching approach for signal quality assessment on electrocardiogram (ECG) data. A computational method w ... (783 characters truncated) ... ry (O(1)) complexity, there are potential applications for signal quality stratification and arrhythmia detection in wearable devices or smartphones.\"),\n",
       " (36464762, 'Extracellular histones trigger oxidative stress-dependent induction of the NF-kB/CAM pathway via TLR4 in endothelial cells.', 'Extracellular histones have been reported to aggravate different pathophysiological processes by increasing vascular permeability, coagulopathy, and  ... (952 characters truncated) ... how extracellular histones enhance systemic inflammatory responses in diseases in which histone release occurs as part of the pathological processes.'),\n",
       " (36464763, 'Tackling hypo and hyper sensory processing heterogeneity in autism: From clinical stratification to genetic pathways.', 'As an integral part of autism spectrum symptoms, sensory processing issues including both hypo and hyper sensory sensitivities. These sensory specifi ... (1422 characters truncated) ... henotypic substrates, will improve the exploration of the underlying neurobiological mechanisms of sensory processing differences in autism spectrum.'),\n",
       " (36464766, 'Siltuximab as a primary treatment for cytokine release syndrome in a patient receiving a bispecific antibody in a clinical trial setting.', 'Cytokine release syndrome (CRS) and immune effector cell-associated neurotoxicity syndrome (ICANS) are common toxicities associated with immunotherap ... (827 characters truncated) ... ase describes the successful use of siltuximab for the management of CRS in a patient treated with a T cell redirecting bispecific antibody for RRMM.'),\n",
       " (36464767, 'CMM - An enhanced platform for interactive validation of metal binding sites.', 'Metal ions bound to macromolecules play an integral role in many cellular processes. They can directly participate in catalytic mechanisms or be esse ... (854 characters truncated) ... ibility of biomedical research. The web server is available at https://cmm.minorlab.org. This article is protected by copyright. All rights reserved.'),\n",
       " (36464768, 'SUMO E3 ligase AtMMS21-dependent SUMOylation of AUXIN/INDOLE-3-ACETIC ACID 17 regulates auxin signaling.', 'Changes in plant auxin levels can be perceived and converted into cellular responses by auxin signal transduction. AUXIN/INDOLE-3-ACETIC ACID (Aux/IA ... (893 characters truncated) ... for SUMOylation in the maintenance of IAA17 protein stability, which contributes to improving our understanding of the mechanisms of auxin signaling.'),\n",
       " (36464770, 'Difficulties in suicide prevention facing primary healthcare workers based on the characteristics of people with suicide risk and healthcare systems.', \"To clarify difficulties in suicide prevention that primary healthcare workers face based on the characteristics of people with suicide risk and healt ... (1972 characters truncated) ... study area participated as interviewees. They also confirmed the truthfulness of the study results, thereby ensuring the rigour of the data analysis.\"),\n",
       " (36464771, 'Comparative analysis of electromagnetic navigation bronchoscopy versus computed tomography-guided lung puncture for the sampling of indeterminate pulmonary nodules in the middle of an anatomic lung segment: A cohort study.', 'To compare the diagnostic positive rate and complication rate between the electromagnetic navigation bronchoscopy (ENB) technique and computed tomogr ... (1173 characters truncated) ...  of pulmonary nodules with a diagnostic positive rate comparable to that of CT-guided lung puncture and with a lower postoperative complication rate.'),\n",
       " (36464772, 'Co-inhibition of immunoproteasome subunits LMP2 and LMP7 enables prevention of transplant arteriosclerosis.', 'The loss of vascular wall cells in allotransplanted arteries is the initial event leading to transplant arteriosclerosis (TA) and ensuing loss of all ... (2503 characters truncated) ... e for suppressing transplant arteriosclerosis and allograft rejection, potentially improving prognosis of patients after solid organ transplantation.'),\n",
       " (36464773, 'Diagnostic reproducibility of the 2018 classification of gingival recession defects and gingival phenotype: A multicenter inter- and intra-examiner agreement study: Overall0.93 (0.92-0.94)0.95 (0.94-0.96)0.75 (0.68-0.81)0.75 (0.69-0.81)0.87 (0.82-0.92)0.79 (0.67-0.92).', \"The aim of this study was to investigate the inter- and intra-examiner agreement among international experts on the diagnosis of gingival recession d ... (1376 characters truncated) ... howed lower reproducibility. The agreement was highest for KTW and RD, and least for GT. This article is protected by copyright. All rights reserved.\"),\n",
       " (36464774, 'Particulate matter exposure and chronic cerebral hypoperfusion promote oxidative stress and induce neuronal and oligodendrocyte apoptosis in male mice.', 'Chronic cerebral hypoperfusion (CCH) may amplify the neurotoxicity of nanoscale particulate matter (nPM), resulting in white matter injury. This stud ... (1610 characters truncated) ... r, oligodendrocytes in the corpus callosum demonstrated a greater susceptibility to the combined neurotoxic effects of nPM\\u2009+\\u2009BCAS exposure.'),\n",
       " (36464776, 'De novo bio-production of odd-chain fatty acids in Saccharomyces cerevisiae through a synthetic pathway via 3-hydroxypropionic acid.', 'Odd-chain fatty acids (OCFAs) and their derivatives have attracted increasing attention due to their wide applications in the chemical, fuel, and pha ... (760 characters truncated) ...  This work provides a new and promising pathway for the de novo bio-production of OCFAs. This article is protected by copyright. All rights reserved.'),\n",
       " (36464775, 'Ganoin and acrodin formation on scales and teeth in spotted gar: A vital role of enamelin in the unique process of enamel mineralization.', 'Gars and bichirs develop scales and teeth with ancient actinopterygian characteristics. Their scale surface and tooth collar are covered with enamel, ... (1319 characters truncated) ... l ribbons in mammals. It is thus likely that the evolution of ENAM was vital to the origin of the unique mineralization process of the enamel matrix.'),\n",
       " (36464777, 'Predictive Value of Adenoid-Nasopharyngeal Ratio in the Diagnosis of Secretory Otitis Media.', \"To explore the associated factors of otitis media with effusion (OME) and analyze the diagnostic value of the adenoid-nasopharyngeal (A/N) ratio to O ... (1168 characters truncated) ... dy. When A/N ratio reaches 0.815, patients are at a higher risk of having OME so it could be a predictor of OME in patients with adenoid hypertrophy.\"),\n",
       " (36464778, 'Development, evaluation and adaptation of a critical realism informed theory of procedural pain management in preterm infants: The PAIN-Neo theory.', \"To present the development, evaluation and adaptation of the PAIN-Neo theory. Theory development. A review of literature was conduct from 1980 to 202 ... (736 characters truncated) ... s innovative and specific enough to guide practice, structure research projects and contribute to the body of knowledge in the discipline of nursing.\"),\n",
       " (36464779, 'Prosodic modulations in child-directed language and their impact on word learning.', \"CHILD-DIRECTED LANGUAGE CAN SUPPORT LANGUAGE LEARNING, BUT HOW? WE ADDRESSED TWO QUESTIONS: : (1) how caregivers prosodically modulated their speech  ... (1415 characters truncated) ...  demanding for children, and these helpful modulations assist children in word learning. This article is protected by copyright. All rights reserved.\"),\n",
       " (36464780, 'Patient and Visit Characteristics Associated With Physical Restraint Use in the Emergency Department.', 'Objective Physical restraints are used in emergency departments (EDs) to address behavioral emergencies in situations in which less restrictive metho ... (1626 characters truncated) ... raint use and structural factors contributing to disparities in care, thereby informing interventions to reduce physical restraint use when possible.'),\n",
       " (36464782, 'Racial and Ethnic Differences in Risk Factors and Outcomes in Adults With Acute Myocardial Infarction.', 'Introduction Understanding racial/ethnic differences in patients with acute myocardial infarction (AMI) lays the foundation for more equitable health ... (1459 characters truncated) ... patterns in adults with AMI. To achieve equitable care, programs with tailored intervention addressing needs of different groups should be developed.'),\n",
       " (36464783, 'Evaluation of characteristic metabolites of aromatic amino acids in patients with HIV infection at different stages of disease.', \"Acquired immune deficiency syndrome (AIDS), human immunodeficiency virus (HIV) infection, and antiretroviral therapy are usually associated with meta ... (1371 characters truncated) ... gations, and further study the utility of PAGln, a characteristic metabolite of AAA, as a biomarker of HIV infection coupled with metabolic syndrome.\"),\n",
       " (36464785, 'Prospective validation of a dynamic prognostic model for identifying COVID-19 patients at high risk of rapid deterioration.', 'We sought to develop and prospectively validate a dynamic model that incorporates changes in biomarkers to predict rapid clinical deterioration in pa ... (1670 characters truncated) ...  and resource allocation decisions based on dynamic changes in biophysiological factors. This article is protected by copyright. All rights reserved.'),\n",
       " (36464786, 'Prospective prediction of developing internalizing disorders in ADHD.', 'Clinical course in attention-deficit/hyperactivity disorder (ADHD) is highly heterogeneous with respect to both core symptoms and associated features ... (1622 characters truncated) ... sion from middle-childhood to mid-adolescence. Results suggest modifiable risk factors associated with prospective differences in long-term outcomes.'),\n",
       " (36464793, 'An Ecological View of Executive Function in Young Children: Variation in and Predictors of Executive Function Skills Over One School Year.', \"For many years, researchers studied EFs in the laboratory with a focus on understanding an individual child's development and brain processes in a co ... (1455 characters truncated) ... nd beyond the individual to include compositional features of the classroom environment. This article is protected by copyright. All rights reserved.\"),\n",
       " (36464792, 'Developmental switch from morphological replication to compensatory growth for salamander lung regeneration.', 'Salamanders possess a pair of lungs for active air breathing, but the lung respiration is fully operational only during the late stage of development ... (1403 characters truncated) ... l strategy for functional lung recovery by inducing epithelial cell proliferation to strengthen the remaining alveoli without rebuilding new alveoli.'),\n",
       " (36464791, 'Strength of Attentional Modulation on Cortical Auditory Evoked Responses Correlates with Speech-in-Noise Performance in Bimodal Cochlear Implant Users.', 'Auditory selective attention is a crucial top-down cognitive mechanism for understanding speech in noise. Cochlear implant (CI) users display great v ... (1479 characters truncated) ... dulation of cortical auditory responses may provide a neural marker for predicting CI users\\' success in clinical tests of speech-in-noise listening.'),\n",
       " (36464799, 'Overview of School-Based Telehealth Network Grant Program Services Delivered to Students in Rural Schools.', 'Telehealth can expand and enhance access to school-based health care, but its use has been relatively limited. Recognizing that school-based health c ... (784 characters truncated) ... le clinical conditions through separate services even though doing so involves using various combinations of clinicians providing different services.'),\n",
       " (36464800, 'Risk of accidents and unintentional injuries in men and women with ADHD across the adult lifespan.', 'Attention Deficit Hyperactivity Disorder (ADHD) is associated with risk-taking behaviour, leading to accidents and unintentional injuries (summarized ... (1364 characters truncated) ... and incident severity. An accurate diagnosis of ADHD in adulthood provides the first step towards prevention of accidents and unintentional injuries.'),\n",
       " (36464801, \"Adolescent Women's Perspectives on Barriers and Facilitators to High School Bathroom Use.\", 'Bathroom access and use in conjunction with biological urge to void is an important part of optimal bladder health. School settings are uniquely posi ... (760 characters truncated) ... ers, administrators, and students about the importance of clean bathrooms and policies that support bathroom use in conjunction with biological urge.'),\n",
       " (36464803, 'Enhanced Recovery after Gynecological Surgery: A Meta-analysis of Randomized Controlled Trials.', 'Enhanced recovery after surgery protocol is a multidisciplinary and multimodal approach designed to improve perioperative outcomes for patients. This ... (943 characters truncated) ...  explore to draw reliable conclusions that enhanced recovery after surgery is favorable. This article is protected by copyright. All rights reserved.'),\n",
       " (36464804, 'Mechanical insufflation-exsufflation for invasively ventilated critically ill patients-A focus group study.', 'Mechanical Insufflation-Exsufflation (MI-E) is used as an airway clearance intervention in primary care (home ventilation), long-term care (prolonged ... (1641 characters truncated) ...  further clinical expertise and evidence of efficacy to further understand the role of MI-E as an airway clearance technique for ventilated patients.'),\n",
       " (36464805, 'Barriers and facilitators influencing EBP readiness: Building organizational and nurse capacity.', \"Organizational supported evidence-based practice (EBP) enables nurses to be change agents and impact patient outcomes. Globally, a multitude of barri ... (1879 characters truncated) ... knowledge uptake activities. Pragmatic solutions for EBP capacity require frontline nurse feedback, commitment, and partnership with nursing leaders.\"),\n",
       " (36464809, 'Multiple dermatofibromas, associated clinical and histological characteristics: A systematic review.', \"Multiple dermatofibromas (DFs) are rare benign fibrohistiocytic lesions characterized by asymptomatic hyperpigmented nodules. Several diseases, like  ... (1142 characters truncated) ... anagement, surgery and follow-up were the preferred options. Most of the cases showed neither resolution nor development of new lesions in follow-up.\"),\n",
       " (36464811, 'Medical error analysis in dermatology according to the reports of the North Rhine Medical Association from 2004 to 2018.', 'Assessment of complaints addressed to the Expert Committee for Medical Malpractice Claims of the North Rhine Medical Association helps to identify qu ... (1043 characters truncated) ... ce settings, diagnostic errors, and deficits in obtaining informed consent are relevant sources of error as underlined by the presented case reports.'),\n",
       " (36464815, 'High-Contrast Luminescent Immunohistochemistry Using PEGylated Lanthanide Complexes.', 'Immunohistochemistry (IHC) using fluorescent probes provides high resolution with multiplexing capability, but the imaging contrast is limited by the ... (896 characters truncated) ...  with tyramide signal amplification (TSA). This work suggests new opportunities for sensitive imaging of low-abundance biomarkers in a tissue matrix.'),\n",
       " (36464814, \"Care-home Nurses' responses to the COVID-19 pandemic: Managing ethical conundrums at personal cost: A qualitative study.\", \"The COVID-19 pandemic had an unprecedented effect on those living and working in care-homes for older people, as residents were particularly vulnerab ... (3194 characters truncated) ...  a newly found confidence in their existing and newly developed skills, and increased recognition by the wider health community of their specialisms.\"),\n",
       " (36464817, 'Rab11 and Its Role in Neurodegenerative Diseases.', 'Vesicles mediate the trafficking of membranes/proteins in the endocytic and secretory pathways. These pathways are regulated by small GTPases of the  ... (1055 characters truncated) ... fly discuss the function of Rab11 and its related interaction partners in intracellular pathways that may be involved in neurodegenerative processes.')]"
      ]
     },
     "execution_count": 265,
     "metadata": {},
     "output_type": "execute_result"
    }
   ],
   "source": [
    "db_interface.run_query(\"select * from pm_abstracts limit 100\")"
   ]
  },
  {
   "cell_type": "code",
   "execution_count": null,
   "id": "7365155f-72d4-45f4-8810-2148b289a791",
   "metadata": {},
   "outputs": [],
   "source": []
  }
 ],
 "metadata": {
  "environment": {
   "kernel": "python3",
   "name": "common-cpu.m110",
   "type": "gcloud",
   "uri": "gcr.io/deeplearning-platform-release/base-cpu:m110"
  },
  "kernelspec": {
   "display_name": "Python 3",
   "language": "python",
   "name": "python3"
  },
  "language_info": {
   "codemirror_mode": {
    "name": "ipython",
    "version": 3
   },
   "file_extension": ".py",
   "mimetype": "text/x-python",
   "name": "python",
   "nbconvert_exporter": "python",
   "pygments_lexer": "ipython3",
   "version": "3.10.12"
  }
 },
 "nbformat": 4,
 "nbformat_minor": 5
}
