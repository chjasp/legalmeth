{
 "cells": [
  {
   "cell_type": "markdown",
   "id": "45b01c3f-ac87-4106-8aa6-15e27c59b71a",
   "metadata": {},
   "source": [
    "### 1 - EDA"
   ]
  },
  {
   "cell_type": "code",
   "execution_count": 2,
   "id": "157edbe3-8ba1-45b8-a9d5-c1bad663ebc7",
   "metadata": {},
   "outputs": [],
   "source": [
    "from lxml import etree as ET\n",
    "import pandas as pd\n",
    "from tqdm import tqdm\n",
    "import matplotlib.pyplot as plt"
   ]
  },
  {
   "cell_type": "code",
   "execution_count": 3,
   "id": "53316bf3-e3dc-49f5-bb63-4f795904a24a",
   "metadata": {},
   "outputs": [],
   "source": [
    "path_to_file = \"../../pubmed23n1165.xml\""
   ]
  },
  {
   "cell_type": "code",
   "execution_count": 4,
   "id": "ce9688b1-081a-4e25-8804-9ab1fd89784f",
   "metadata": {},
   "outputs": [],
   "source": [
    "context = ET.iterparse(path_to_file, events=(\"start\", \"end\"))"
   ]
  },
  {
   "cell_type": "code",
   "execution_count": 5,
   "id": "8a1f12b0-eccb-40f4-b53e-72716871cce7",
   "metadata": {},
   "outputs": [
    {
     "name": "stdout",
     "output_type": "stream",
     "text": [
      "PMID: 36434552\n",
      "Title: Prognostic model for overall survival that includes the combination of platelet count and neutrophil-lymphocyte ratio within the first six weeks of sunitinib treatment for metastatic renal cell carcinoma.\n",
      "Abstract:\n",
      "  AbstractText: The association between the combination of platelet count and neutrophil-lymphocyte ratio (COP-NLR) at the time of adverse events during sunitinib treatment and prognosis is unclear, and prognostic models combining the prognostic factors of sunitinib have not been well studied. Thus, we developed a prognostic model that includes the COP-NLR to predict the prognosis of patients with metastatic renal cell carcinoma (mRCC) treated with sunitinib.\n",
      "  AbstractText: We performed a retrospective cohort study of 102 patients treated with sunitinib for mRCC between 2008 and 2020 in three hospitals associated with Showa University, Japan. The primary outcome was overall survival (OS). The collected data included baseline patient characteristics, adverse events, laboratory values, and COP-NLR scores within the first 6 weeks of sunitinib treatment. Prognostic factors of OS were analyzed using the Cox proportional hazards model. The integer score was derived from the beta-coefficient (β) of these factors and was divided into three groups. The survival curves were visualized using the Kaplan-Meier method and estimated using a log-rank test.\n",
      "  AbstractText: The median OS was 32.3 months. Multivariable analysis showed that the number of metastatic sites, Memorial Sloan Kettering Cancer Center risk group, number of metastases, non-hypertension, modified Glasgow Prognostic Score, and 6-week COP-NLR were significantly associated with OS. A higher 6-week COP-NLR was significantly associated with a shorter OS (p < 0.001). The β values of the five factors for OS were scored (non-hypertension, mGPS, and 6-week COP-NLR = 1 point; number of metastatic sites = 2 points; MSKCC risk group = 3 points) and patients divided into three groups (≤ 1, 2-3, and ≥ 4). The low-risk (≤ 1) group had significantly longer OS than the high-risk (≥ 4) group (median OS: 99.0 vs. 6.2 months, p < 0.001).\n",
      "  AbstractText: This study showed that the COP-NLR within the first 6 weeks of sunitinib treatment had a greater impact on OS than the COP-NLR at the start of sunitinib treatment. The developed prognostic model for OS, including the 6-week COP-NLR, will be useful in decision-making to continue sunitinib in the early treatment stage of patients with mRCC.\n",
      "\n",
      "-----\n",
      "-----\n",
      "\n",
      "PMID: 36434552\n",
      "Title: Prognostic model for overall survival that includes the combination of platelet count and neutrophil-lymphocyte ratio within the first six weeks of sunitinib treatment for metastatic renal cell carcinoma.\n",
      "Abstract:\n",
      "  AbstractText: The association between the combination of platelet count and neutrophil-lymphocyte ratio (COP-NLR) at the time of adverse events during sunitinib treatment and prognosis is unclear, and prognostic models combining the prognostic factors of sunitinib have not been well studied. Thus, we developed a prognostic model that includes the COP-NLR to predict the prognosis of patients with metastatic renal cell carcinoma (mRCC) treated with sunitinib.\n",
      "  AbstractText: We performed a retrospective cohort study of 102 patients treated with sunitinib for mRCC between 2008 and 2020 in three hospitals associated with Showa University, Japan. The primary outcome was overall survival (OS). The collected data included baseline patient characteristics, adverse events, laboratory values, and COP-NLR scores within the first 6 weeks of sunitinib treatment. Prognostic factors of OS were analyzed using the Cox proportional hazards model. The integer score was derived from the beta-coefficient (β) of these factors and was divided into three groups. The survival curves were visualized using the Kaplan-Meier method and estimated using a log-rank test.\n",
      "  AbstractText: The median OS was 32.3 months. Multivariable analysis showed that the number of metastatic sites, Memorial Sloan Kettering Cancer Center risk group, number of metastases, non-hypertension, modified Glasgow Prognostic Score, and 6-week COP-NLR were significantly associated with OS. A higher 6-week COP-NLR was significantly associated with a shorter OS (p < 0.001). The β values of the five factors for OS were scored (non-hypertension, mGPS, and 6-week COP-NLR = 1 point; number of metastatic sites = 2 points; MSKCC risk group = 3 points) and patients divided into three groups (≤ 1, 2-3, and ≥ 4). The low-risk (≤ 1) group had significantly longer OS than the high-risk (≥ 4) group (median OS: 99.0 vs. 6.2 months, p < 0.001).\n",
      "  AbstractText: This study showed that the COP-NLR within the first 6 weeks of sunitinib treatment had a greater impact on OS than the COP-NLR at the start of sunitinib treatment. The developed prognostic model for OS, including the 6-week COP-NLR, will be useful in decision-making to continue sunitinib in the early treatment stage of patients with mRCC.\n",
      "\n",
      "-----\n",
      "-----\n",
      "\n",
      "PMID: 36434553\n",
      "Title: Real-world data for precision public health of noncommunicable diseases: a scoping review.\n",
      "Abstract:\n",
      "  AbstractText: Global public health action to address noncommunicable diseases (NCDs) requires new approaches. NCDs are primarily prevented and managed in the community where there is little investment in digital health systems and analytics; this has created a data chasm and relatively silent burden of disease. The nascent but rapidly emerging area of precision public health offers exciting new opportunities to transform our approach to NCD prevention. Precision public health uses routinely collected real-world data on determinants of health (social, environmental, behavioural, biomedical and commercial) to inform precision decision-making, interventions and policy based on social position, equity and disease risk, and continuously monitors outcomes - the right intervention for the right population at the right time. This scoping review aims to identify global exemplars of precision public health and the data sources and methods of their aggregation/application to NCD prevention.\n",
      "  AbstractText: The Preferred Reporting Items for Systematic Reviews and Meta-Analyses extension for scoping reviews (PRISMA-ScR) was followed. Six databases were systematically searched for articles published until February 2021. Articles were included if they described digital aggregation of real-world data and 'traditional' data for applied community, population or public health management of NCDs. Real-world data was defined as routinely collected (1) Clinical, Medication and Family History (2) Claims/Billing (3) Mobile Health (4) Environmental (5) Social media (6) Molecular profiling (7) Patient-centred (e.g., personal health record). Results were analysed descriptively and mapped according to the three horizons framework for digital health transformation.\n",
      "  AbstractText: Six studies were included. Studies developed population health surveillance methods and tools using diverse real-world data (e.g., electronic health records and health insurance providers) and traditional data (e.g., Census and administrative databases) for precision surveillance of 28 NCDs. Population health analytics were applied consistently with descriptive, geospatial and temporal functions. Evidence of using surveillance tools to create precision public health models of care or improve policy and practice decisions was unclear.\n",
      "  AbstractText: Applications of real-world data and designed data to address NCDs are emerging with greater precision. Digital transformation of the public health sector must be accelerated to create an efficient and sustainable predict-prevent healthcare system.\n",
      "\n",
      "-----\n",
      "-----\n",
      "\n"
     ]
    }
   ],
   "source": [
    "pubmed_article_count = 0\n",
    "\n",
    "# Iterate through the XML elements\n",
    "for event, elem in context:\n",
    "    if elem.tag == \"PubmedArticle\":\n",
    "        pubmed_article_count += 1\n",
    "\n",
    "        # Extract information for the first 10 PubmedArticle elements\n",
    "        if pubmed_article_count <= 3:\n",
    "            pmid = elem.find(\".//PMID\")\n",
    "            title = elem.find(\".//ArticleTitle\")\n",
    "            abstract = elem.find(\".//Abstract\")\n",
    "\n",
    "            if pmid is not None:\n",
    "                print(\"PMID:\", pmid.text)\n",
    "            if title is not None:\n",
    "                print(\"Title:\", title.text)\n",
    "            if abstract is not None:\n",
    "                print(\"Abstract:\")\n",
    "                for abstract_text in abstract.findall(\"AbstractText\"):\n",
    "                    print(\"  AbstractText:\", abstract_text.text)\n",
    "            print(\"\\n-----\\n-----\\n\")\n",
    "        else:\n",
    "            break"
   ]
  },
  {
   "cell_type": "code",
   "execution_count": 6,
   "id": "7e445406-07c2-4a41-be62-07c5f27bb785",
   "metadata": {},
   "outputs": [
    {
     "name": "stderr",
     "output_type": "stream",
     "text": [
      "11750323it [00:17, 657516.80it/s]\n"
     ]
    }
   ],
   "source": [
    "data = []\n",
    "\n",
    "# Iterate through the XML elements\n",
    "for event, elem in tqdm(context):\n",
    "    if elem.tag == \"PubmedArticle\":\n",
    "        pubmed_article_count += 1\n",
    "\n",
    "        pmid = elem.find(\".//PMID\")\n",
    "        title = elem.find(\".//ArticleTitle\")\n",
    "        abstract = elem.find(\".//Abstract\")\n",
    "\n",
    "        if pmid is not None and title is not None and abstract is not None:\n",
    "            pmid_text = pmid.text\n",
    "            title_text = title.text\n",
    "            abstract_texts = [abstract_text.text if abstract_text.text is not None else \"\" for abstract_text in abstract.findall(\"AbstractText\")]\n",
    "            abstract_text_concat = \" \".join(abstract_texts)\n",
    "\n",
    "            # Append the data to the list\n",
    "            data.append((pmid_text, title_text, abstract_text_concat))\n",
    "\n",
    "    # Clear the element to save memory\n",
    "    elem.clear()\n",
    "\n",
    "# Create a DataFrame with the data\n",
    "df = pd.DataFrame(data, columns=[\"pmid\", \"title\", \"abstract\"])"
   ]
  },
  {
   "cell_type": "code",
   "execution_count": 7,
   "id": "00c37f8c-bb40-46d0-a1a7-71ef17c59fd2",
   "metadata": {},
   "outputs": [
    {
     "data": {
      "text/plain": [
       "45.977725982666016"
      ]
     },
     "execution_count": 7,
     "metadata": {},
     "output_type": "execute_result"
    }
   ],
   "source": [
    "df.memory_usage(deep=True).sum()/1024**2"
   ]
  },
  {
   "cell_type": "code",
   "execution_count": 8,
   "id": "7e4e45a0-d70f-4ad5-bbec-1beac55f9e63",
   "metadata": {},
   "outputs": [
    {
     "data": {
      "text/plain": [
       "(       pmid                                              title  \\\n",
       " 0  36434554  TALASUR trial: a single arm phase II trial ass...   \n",
       " 1  36434555  HIV testing and associated factors among men (...   \n",
       " 2  36434557  HIV is still a major public health problem amo...   \n",
       " 3  36434558  Which style of duodenojejunostomy is better af...   \n",
       " 4  36434556  Artificial intelligence to guide precision ant...   \n",
       " \n",
       "                                             abstract  \n",
       " 0  Urothelial carcinoma (UC) is the ninth most co...  \n",
       " 1  Despite significant efforts made to prevent hu...  \n",
       " 2  The burden of HIV is disproportionately higher...  \n",
       " 3  Distal duodenal resections are sometimes neces...  \n",
       " 4  Vast amounts of rapidly accumulating biologica...  ,\n",
       " (25487, 3))"
      ]
     },
     "execution_count": 8,
     "metadata": {},
     "output_type": "execute_result"
    }
   ],
   "source": [
    "df.head(), df.shape"
   ]
  },
  {
   "cell_type": "code",
   "execution_count": 9,
   "id": "baae25a6-e76b-46a0-bf68-1e7dab04bd5c",
   "metadata": {},
   "outputs": [
    {
     "data": {
      "text/plain": [
       "pmid               0\n",
       "title              0\n",
       "abstract           0\n",
       "abstract_length    0\n",
       "dtype: int64"
      ]
     },
     "execution_count": 9,
     "metadata": {},
     "output_type": "execute_result"
    }
   ],
   "source": [
    "df.dropna(inplace=True)\n",
    "df.drop_duplicates(subset='pmid', inplace=True)\n",
    "\n",
    "df[\"abstract_length\"] = df[\"abstract\"].apply(len)\n",
    "\n",
    "df.isna().sum()"
   ]
  },
  {
   "cell_type": "code",
   "execution_count": 10,
   "id": "2338e270-2f78-4472-bc6c-e0f22fda6db8",
   "metadata": {},
   "outputs": [
    {
     "data": {
      "text/plain": [
       "(25397, 4)"
      ]
     },
     "execution_count": 10,
     "metadata": {},
     "output_type": "execute_result"
    }
   ],
   "source": [
    "df.shape"
   ]
  },
  {
   "cell_type": "code",
   "execution_count": 11,
   "id": "0dae0b06-ada8-4bca-a478-456ba1e2c791",
   "metadata": {},
   "outputs": [
    {
     "data": {
      "text/plain": [
       "(25397, 4)"
      ]
     },
     "execution_count": 11,
     "metadata": {},
     "output_type": "execute_result"
    }
   ],
   "source": [
    "df['pmid'] = df['pmid'].astype(int)\n",
    "df.shape"
   ]
  },
  {
   "cell_type": "code",
   "execution_count": 12,
   "id": "a14c006c-5790-475c-a3f9-2e0da51f09d4",
   "metadata": {},
   "outputs": [
    {
     "data": {
      "text/plain": [
       "(17076, 4)"
      ]
     },
     "execution_count": 12,
     "metadata": {},
     "output_type": "execute_result"
    }
   ],
   "source": [
    "clean_df = df[df[\"abstract_length\"] > 1000]\n",
    "clean_df.shape"
   ]
  },
  {
   "cell_type": "code",
   "execution_count": 13,
   "id": "192abbb2-9825-4722-be81-685590685d4f",
   "metadata": {},
   "outputs": [
    {
     "data": {
      "image/png": "[encoded data removed]",
      "text/plain": [
       "<Figure size 640x480 with 1 Axes>"
      ]
     },
     "metadata": {},
     "output_type": "display_data"
    }
   ],
   "source": [
    "clean_df[\"abstract_length\"].hist(bins=20)\n",
    "plt.show()"
   ]
  },
  {
   "cell_type": "code",
   "execution_count": 21,
   "id": "404d0560-9da3-4cae-b6f8-45fcf6566dd6",
   "metadata": {},
   "outputs": [],
   "source": [
    "a = clean_df[clean_df[\"pmid\"] == 36434554]"
   ]
  },
  {
   "cell_type": "code",
   "execution_count": 28,
   "id": "db6d8676-95dc-4877-b7ed-2682003861f3",
   "metadata": {},
   "outputs": [
    {
     "data": {
      "text/plain": [
       "'Urothelial carcinoma (UC) is the ninth most commonly diagnosed cancer worldwide, with a 3.8/1 male to female ratio. Platinum-based chemotherapy is the first line standard of care for fit patients with advanced UC. However, despite a response rate (RR) for approximately half of patients receiving standard chemotherapy, durable responses are rare (median progression-free progression (PFS) around 8\\xa0months). Recently, immune checkpoint inhibitors (ICI) have emerged as new therapeutic options. Among them, Avelumab, an anti-PD-L1 antibody, was assessed in maintenance treatment, demonstrating an overall survival improvement in the JAVELIN Bladder-100 phase III trial. These findings led to its approval as first line maintenance therapy for patients with locally advanced or metastatic UC who have not progressed on prior platinum-containing chemotherapy. However, disease progression as best response was noticed for 37% of patients under Avelumab as maintenance treatment. UC has targetable genomic alterations, including DNA damage repair (DDR) alterations. DDR deficiency is known to major sensitivity to both platinum-based chemotherapy and PD-1/PD-L1 blockade and the combination of ICI and PARP inhibitors showed promising results. It therefore warrants to assess the interest of combining ICI plus PARP inhibitors as maintenance treatment in UC patients. The TALASUR trial is a single-arm multicenter phase 2 study aiming to assess the antitumor activity of the combination of Avelumab with Talazoparib among patients with locally advanced/metastatic UC in maintenance therapy after platinum-based chemotherapy. The primary objective is to determine the efficacy of the combination, assessed through PFS. Secondary objectives are as follows: safety profile of the association, objective response, duration of tumoral response, disease control rate, time to subsequent therapy, quality of life. A blood and tumor collections will be also constituted. Patient will receive the combination therapy of daily oral Talazoparib (1\\xa0mg/day) and intra-venous Avelumab 800\\xa0mg on days 1 and 15, in a 28-day cycle. Fifty patients will be enrolled. Talazoparib with Avelumab combination may have additive activity when administrated jointly. We hypothesize that combination will increase the antitumor activity in UC first line maintenance setting with an acceptable safety profile. NCT04678362, registered December 21, 2020. \\xa0Version 1.3 dated from 2020 09 11.'"
      ]
     },
     "execution_count": 29,
     "metadata": {},
     "output_type": "execute_result"
    }
   ],
   "source": [
    "a.iloc[0,2]"
   ]
  },
  {
   "cell_type": "code",
   "execution_count": 23,
   "id": "29952654-d16e-4947-8c5a-606aef234504",
   "metadata": {},
   "outputs": [
    {
     "data": {
      "text/plain": [
       "0    Urothelial carcinoma (UC) is the ninth most co...\n",
       "Name: abstract, dtype: object"
      ]
     },
     "execution_count": 23,
     "metadata": {},
     "output_type": "execute_result"
    }
   ],
   "source": [
    "a[\"abstract\"]"
   ]
  },
  {
   "cell_type": "markdown",
   "id": "50db61e0-e9f3-428f-85ff-f96b9d44b955",
   "metadata": {
    "tags": []
   },
   "source": [
    "### 2 - Load data into Postgres"
   ]
  },
  {
   "cell_type": "code",
   "execution_count": 44,
   "id": "318c7d56-7b14-46dc-b69e-c7c15aae0e3d",
   "metadata": {},
   "outputs": [],
   "source": [
    "# Data processing\n",
    "from langchain.text_splitter import RecursiveCharacterTextSplitter\n",
    "import pandas as pd\n",
    "import os\n",
    "\n",
    "# DB connection\n",
    "from google.cloud.sql.connector import Connector\n",
    "import sqlalchemy\n",
    "from sqlalchemy import create_engine, text\n",
    "\n",
    "# Embeddings\n",
    "from vertexai.language_models import TextEmbeddingModel\n",
    "\n",
    "# Utils\n",
    "import time\n",
    "from tqdm import tqdm\n",
    "import numpy as np"
   ]
  },
  {
   "cell_type": "code",
   "execution_count": 45,
   "id": "79dcb3f3-f4a2-4d43-9bd7-1901bf54ba6c",
   "metadata": {},
   "outputs": [],
   "source": [
    "class DataProcessor:\n",
    "    def __init__(self, df, text_splitter):\n",
    "        self.df = df\n",
    "        self.text_splitter = text_splitter\n",
    "        self.chunked = []\n",
    "        \n",
    "    def process(self):\n",
    "        for index, row in self.df.iterrows():\n",
    "            product_id = row[\"product_id\"]\n",
    "            desc = row[\"description\"]\n",
    "            splits = self.text_splitter.create_documents([desc])\n",
    "            for s in splits:\n",
    "                r = {\"product_id\": product_id, \"content\": s.page_content}\n",
    "                self.chunked.append(r)\n",
    "        return self.chunked"
   ]
  },
  {
   "cell_type": "code",
   "execution_count": 46,
   "id": "ac6c6e7a-e8c2-47bb-a21d-d305bfa7ae52",
   "metadata": {},
   "outputs": [],
   "source": [
    "class EmbeddingGenerator:\n",
    "    def __init__(self, model, batch_size):\n",
    "        self.model = model\n",
    "        self.batch_size = batch_size\n",
    "        \n",
    "    def generate_embeddings(self, chunked):\n",
    "        for i in tqdm(range(0, len(chunked), self.batch_size)):\n",
    "            request_data = [c[\"content\"] for c in chunked[i: i + self.batch_size]]\n",
    "            response = self.retry_with_backoff(self.model.get_embeddings, request_data)\n",
    "            for c, e in zip(chunked[i: i + self.batch_size], response):\n",
    "                c[\"embedding\"] = e.values\n",
    "                \n",
    "    def retry_with_backoff(self, func, *args, retry_delay=5, backoff_factor=2):\n",
    "        max_attempts = 10\n",
    "        retries = 0\n",
    "        for i in range(max_attempts):\n",
    "            try:\n",
    "                return func(*args)\n",
    "            except Exception as e:\n",
    "                print(f\"error: {e}\")\n",
    "                retries += 1\n",
    "                wait = retry_delay * (backoff_factor**retries)\n",
    "                print(f\"Retry after waiting for {wait} seconds...\")\n",
    "                time.sleep(wait)"
   ]
  },
  {
   "cell_type": "code",
   "execution_count": 67,
   "id": "81979c21-b2f2-4c80-b049-7fbe9e63423d",
   "metadata": {},
   "outputs": [],
   "source": [
    "class DatabaseInterface:\n",
    "    def __init__(self, instance_connection_name, db_user, db_pass, db_name):\n",
    "        self.instance_connection_name = instance_connection_name\n",
    "        self.db_user = db_user\n",
    "        self.db_pass = db_pass\n",
    "        self.db_name = db_name\n",
    "        self.connector = Connector()\n",
    "        self.pool = self.create_pool()\n",
    "\n",
    "    def get_conn(self):\n",
    "        conn = self.connector.connect(\n",
    "            self.instance_connection_name,\n",
    "            \"pg8000\",\n",
    "            user=self.db_user,\n",
    "            password=self.db_pass,\n",
    "            db=self.db_name\n",
    "        )\n",
    "        return conn\n",
    "\n",
    "    def create_pool(self):\n",
    "        return create_engine(\n",
    "            \"postgresql+pg8000://\",\n",
    "            creator=self.get_conn,\n",
    "        )\n",
    "    \n",
    "    def run_query(self, query, fetch=True):\n",
    "        with self.pool.connect() as connection:\n",
    "            result = connection.execute(text(query))\n",
    "            connection.commit() \n",
    "            if fetch:\n",
    "                return result.fetchall()\n",
    "            else:\n",
    "                return None\n",
    "            \n",
    "    def insert_data_from_dataframe(self, dataframe, table_name):\n",
    "        dataframe.to_sql(\n",
    "            table_name,\n",
    "            self.pool,\n",
    "            if_exists='append',\n",
    "            index=False,\n",
    "            method='multi'\n",
    "        )\n",
    "        \n",
    "    def create_table(self, table_name, columns):\n",
    "        \"\"\"\n",
    "        Creates a table with the given name and columns.\n",
    "        :param table_name: The name of the table\n",
    "        :param columns: A dictionary where keys are column names and values are SQL data types\n",
    "        \"\"\"\n",
    "        cols = ', '.join(f'{col} {dtype}' for col, dtype in columns.items())\n",
    "        create_table_query = f'CREATE TABLE {table_name} ({cols});'\n",
    "        self.run_query(create_table_query, fetch=False)\n",
    "\n",
    "    def drop_table(self, table_name):\n",
    "        \"\"\"\n",
    "        Drops the table with the given name.\n",
    "        :param table_name: The name of the table\n",
    "        \"\"\"\n",
    "        drop_table_query = f'DROP TABLE {table_name};'\n",
    "        print(self.run_query(drop_table_query, fetch=False))"
   ]
  },
  {
   "cell_type": "code",
   "execution_count": 68,
   "id": "ba1bd39d-1c4d-47fd-992e-dd4eaba18af5",
   "metadata": {},
   "outputs": [
    {
     "name": "stdout",
     "output_type": "stream",
     "text": [
      "Your instance connection name is: steam-378309:europe-west3:legalm\n"
     ]
    }
   ],
   "source": [
    "project_id = \"steam-378309\"\n",
    "region = \"europe-west3\"\n",
    "instance_name = \"legalm\"\n",
    "\n",
    "DB_NAME = \"pubmed\"\n",
    "DB_USER = \"postgres\"\n",
    "DB_PASS = \"bdpass\"\n",
    "DB_PORT = \"5432\"\n",
    "\n",
    "INSTANCE_CONNECTION_NAME = f\"{project_id}:{region}:{instance_name}\"\n",
    "print(f\"Your instance connection name is: {INSTANCE_CONNECTION_NAME}\")"
   ]
  },
  {
   "cell_type": "code",
   "execution_count": 69,
   "id": "daa66588-758d-41c4-abae-0348bb616bd5",
   "metadata": {},
   "outputs": [],
   "source": [
    "db_interface = DatabaseInterface(INSTANCE_CONNECTION_NAME, DB_USER, DB_PASS, DB_NAME)"
   ]
  },
  {
   "cell_type": "code",
   "execution_count": 70,
   "id": "28e0e052-d1f6-4c62-a610-90ecd79d5ac6",
   "metadata": {},
   "outputs": [],
   "source": [
    "# db_interface.run_query(\"CREATE EXTENSION IF NOT EXISTS vector\", fetch=False)"
   ]
  },
  {
   "cell_type": "code",
   "execution_count": 71,
   "id": "12f8e410-4a9e-428d-a4fd-3dbefb0c2795",
   "metadata": {},
   "outputs": [],
   "source": [
    "pm_abstracts_fields = {\"pmid\": \"BIGINT\",\n",
    "                       \"title\": \"TEXT\",\n",
    "                       \"abstract\": \"TEXT\"}\n",
    "\n",
    "pm_abstracts_embeddings_fields = {\"pmid\": \"BIGINT\",\n",
    "                                 \"title\": \"TEXT\",\n",
    "                                 \"abstract\": \"TEXT\",\n",
    "                                 \"embedding\": \"VECTOR(768)\"}"
   ]
  },
  {
   "cell_type": "code",
   "execution_count": 72,
   "id": "4362cb6f-58cb-4393-acdb-7ca76c64c89e",
   "metadata": {},
   "outputs": [],
   "source": [
    "table_query = \"\"\"\n",
    "        SELECT tablename \n",
    "        FROM pg_catalog.pg_tables \n",
    "        WHERE schemaname != 'pg_catalog' \n",
    "        AND schemaname != 'information_schema';\n",
    "        \"\"\""
   ]
  },
  {
   "cell_type": "code",
   "execution_count": 73,
   "id": "68e198de-874e-4517-923e-c749d8bff6f8",
   "metadata": {},
   "outputs": [
    {
     "data": {
      "text/plain": [
       "[('pm_abstracts',), ('pm_abstracts_embeddings',)]"
      ]
     },
     "execution_count": 73,
     "metadata": {},
     "output_type": "execute_result"
    }
   ],
   "source": [
    "db_interface.run_query(table_query)"
   ]
  },
  {
   "cell_type": "code",
   "execution_count": 54,
   "id": "c7c866d9-21f8-485b-8182-86c23934f582",
   "metadata": {},
   "outputs": [],
   "source": [
    "# db_interface.create_table(\"pm_abstracts\", pm_abstracts_fields)\n",
    "# db_interface.create_table(\"pm_abstracts_embeddings\", pm_abstracts_embeddings_fields)"
   ]
  },
  {
   "cell_type": "code",
   "execution_count": 74,
   "id": "d244e7db-2c0d-4d1c-aae9-ab6af14049d5",
   "metadata": {},
   "outputs": [],
   "source": [
    "db_interface.run_query(\"TRUNCATE pm_abstracts\", fetch=False)\n",
    "db_interface.run_query(\"TRUNCATE pm_abstracts_embeddings\", fetch=False)"
   ]
  },
  {
   "cell_type": "code",
   "execution_count": null,
   "id": "43b8f072-8831-4548-9cca-12ea65ca4529",
   "metadata": {},
   "outputs": [
    {
     "name": "stderr",
     "output_type": "stream",
     "text": [
      "100%|██████████| 171/171 [00:25<00:00,  6.74it/s]\n"
     ]
    }
   ],
   "source": [
    "chunk_size = 100\n",
    "\n",
    "for start in tqdm(range(0, len(clean_df), chunk_size)):\n",
    "    end = start + chunk_size\n",
    "    subset = clean_df.iloc[start:end]\n",
    "    db_interface.insert_data_from_dataframe(subset, \"pm_abstracts\")"
   ]
  },
  {
   "cell_type": "code",
   "execution_count": null,
   "id": "42a78015-a136-487e-9aab-9e444c34941e",
   "metadata": {},
   "outputs": [
    {
     "data": {
      "text/plain": [
       "[(17076,)]"
      ]
     },
     "execution_count": 79,
     "metadata": {},
     "output_type": "execute_result"
    }
   ],
   "source": [
    "db_interface.run_query(\"select count(distinct pmid) pmid from pm_abstracts\")"
   ]
  },
  {
   "cell_type": "code",
   "execution_count": 80,
   "id": "bd3f244d-396f-4d7a-975f-cdb86e9bb778",
   "metadata": {},
   "outputs": [],
   "source": [
    "text_splitter = RecursiveCharacterTextSplitter(\n",
    "    separators=[\".\", \"\\n\"],\n",
    "    chunk_size=500,\n",
    "    chunk_overlap=0,\n",
    "    length_function=len,\n",
    ")\n",
    "\n",
    "chunked = []\n",
    "\n",
    "for index, row in clean_df.iterrows():\n",
    "    pmid = row[\"pmid\"]\n",
    "    title = row[\"title\"]\n",
    "    abstract = row[\"abstract\"]\n",
    "    splits = text_splitter.create_documents([abstract])\n",
    "    for s in splits:\n",
    "        r = {\"pmid\": pmid, \"title\": title, \"abstract\": s.page_content}\n",
    "        chunked.append(r)"
   ]
  },
  {
   "cell_type": "code",
   "execution_count": 81,
   "id": "b2b7eaa7-4c1e-4749-bec6-832a98956a22",
   "metadata": {},
   "outputs": [
    {
     "data": {
      "text/plain": [
       "70869"
      ]
     },
     "execution_count": 81,
     "metadata": {},
     "output_type": "execute_result"
    }
   ],
   "source": [
    "len(chunked)"
   ]
  }
 ],
 "metadata": {
  "environment": {
   "kernel": "python3",
   "name": "common-cpu.m110",
   "type": "gcloud",
   "uri": "gcr.io/deeplearning-platform-release/base-cpu:m110"
  },
  "kernelspec": {
   "display_name": "Python 3",
   "language": "python",
   "name": "python3"
  },
  "language_info": {
   "codemirror_mode": {
    "name": "ipython",
    "version": 3
   },
   "file_extension": ".py",
   "mimetype": "text/x-python",
   "name": "python",
   "nbconvert_exporter": "python",
   "pygments_lexer": "ipython3",
   "version": "3.10.12"
  }
 },
 "nbformat": 4,
 "nbformat_minor": 5
}
